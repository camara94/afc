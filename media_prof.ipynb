{
 "cells": [
  {
   "cell_type": "markdown",
   "metadata": {},
   "source": [
    "# Analyse Factorielle des Correspondances"
   ]
  },
  {
   "cell_type": "markdown",
   "metadata": {},
   "source": [
    "L'AFC a ici pour but de décrire un fichier de données.\n",
    "Celui-ci est extrait du site de Ricco Rakotomalala (Université Lyon 2) :\n",
    "http://eric.univ-lyon2.fr/%7Ericco/tanagra/fichiers/media_prof_afc.xls\n",
    "Nous partons d'un fichier texte intitulé \"ca_data.txt\"\n",
    "On importe la librairie pandas pour charger les données, ainsi que la classe CA du package fanalysis.\n",
    "Les données sont transformées en matrice de type numpy.ndarray.\n",
    "\n",
    "Les données doivent se présenter sous forme de tableau croisé, avec des fréquences absolues (effectifs de chaque cellule)."
   ]
  },
  {
   "cell_type": "code",
   "execution_count": 1,
   "metadata": {},
   "outputs": [],
   "source": [
    "import pandas as pd\n",
    "from fanalysis.ca import CA\n",
    "import numpy as np\n",
    "%matplotlib inline"
   ]
  },
  {
   "cell_type": "code",
   "execution_count": 28,
   "metadata": {},
   "outputs": [
    {
     "data": {
      "text/html": [
       "<div>\n",
       "<style scoped>\n",
       "    .dataframe tbody tr th:only-of-type {\n",
       "        vertical-align: middle;\n",
       "    }\n",
       "\n",
       "    .dataframe tbody tr th {\n",
       "        vertical-align: top;\n",
       "    }\n",
       "\n",
       "    .dataframe thead th {\n",
       "        text-align: right;\n",
       "    }\n",
       "</style>\n",
       "<table border=\"1\" class=\"dataframe\">\n",
       "  <thead>\n",
       "    <tr style=\"text-align: right;\">\n",
       "      <th></th>\n",
       "      <th>Prof</th>\n",
       "      <th>Radio</th>\n",
       "      <th>Tel.</th>\n",
       "      <th>Quot.Nat.</th>\n",
       "      <th>Quot.Reg.</th>\n",
       "      <th>Press.Mag.</th>\n",
       "      <th>Press.TV</th>\n",
       "    </tr>\n",
       "  </thead>\n",
       "  <tbody>\n",
       "    <tr>\n",
       "      <th>0</th>\n",
       "      <td>Agriculteur</td>\n",
       "      <td>96</td>\n",
       "      <td>118</td>\n",
       "      <td>2</td>\n",
       "      <td>71</td>\n",
       "      <td>50</td>\n",
       "      <td>17</td>\n",
       "    </tr>\n",
       "    <tr>\n",
       "      <th>1</th>\n",
       "      <td>Petit.Patr.</td>\n",
       "      <td>122</td>\n",
       "      <td>136</td>\n",
       "      <td>11</td>\n",
       "      <td>76</td>\n",
       "      <td>49</td>\n",
       "      <td>41</td>\n",
       "    </tr>\n",
       "    <tr>\n",
       "      <th>2</th>\n",
       "      <td>Prof.Cad.Sup</td>\n",
       "      <td>193</td>\n",
       "      <td>184</td>\n",
       "      <td>74</td>\n",
       "      <td>63</td>\n",
       "      <td>103</td>\n",
       "      <td>79</td>\n",
       "    </tr>\n",
       "    <tr>\n",
       "      <th>3</th>\n",
       "      <td>Prof.Int.</td>\n",
       "      <td>360</td>\n",
       "      <td>365</td>\n",
       "      <td>63</td>\n",
       "      <td>145</td>\n",
       "      <td>141</td>\n",
       "      <td>184</td>\n",
       "    </tr>\n",
       "    <tr>\n",
       "      <th>4</th>\n",
       "      <td>Employe</td>\n",
       "      <td>511</td>\n",
       "      <td>593</td>\n",
       "      <td>57</td>\n",
       "      <td>217</td>\n",
       "      <td>172</td>\n",
       "      <td>306</td>\n",
       "    </tr>\n",
       "    <tr>\n",
       "      <th>5</th>\n",
       "      <td>Ouvr.Qualif.</td>\n",
       "      <td>385</td>\n",
       "      <td>457</td>\n",
       "      <td>42</td>\n",
       "      <td>174</td>\n",
       "      <td>104</td>\n",
       "      <td>220</td>\n",
       "    </tr>\n",
       "    <tr>\n",
       "      <th>6</th>\n",
       "      <td>Ouvr.Non-Qual.</td>\n",
       "      <td>156</td>\n",
       "      <td>185</td>\n",
       "      <td>8</td>\n",
       "      <td>69</td>\n",
       "      <td>42</td>\n",
       "      <td>85</td>\n",
       "    </tr>\n",
       "    <tr>\n",
       "      <th>7</th>\n",
       "      <td>Inactif</td>\n",
       "      <td>1474</td>\n",
       "      <td>1931</td>\n",
       "      <td>181</td>\n",
       "      <td>852</td>\n",
       "      <td>642</td>\n",
       "      <td>782</td>\n",
       "    </tr>\n",
       "  </tbody>\n",
       "</table>\n",
       "</div>"
      ],
      "text/plain": [
       "             Prof  Radio  Tel.  Quot.Nat.  Quot.Reg.  Press.Mag.  Press.TV\n",
       "0     Agriculteur     96   118          2         71          50        17\n",
       "1     Petit.Patr.    122   136         11         76          49        41\n",
       "2    Prof.Cad.Sup    193   184         74         63         103        79\n",
       "3       Prof.Int.    360   365         63        145         141       184\n",
       "4         Employe    511   593         57        217         172       306\n",
       "5    Ouvr.Qualif.    385   457         42        174         104       220\n",
       "6  Ouvr.Non-Qual.    156   185          8         69          42        85\n",
       "7         Inactif   1474  1931        181        852         642       782"
      ]
     },
     "execution_count": 28,
     "metadata": {},
     "output_type": "execute_result"
    }
   ],
   "source": [
    "df = pd.read_excel(\"media_prof_afc.xls\")\n",
    "df"
   ]
  },
  {
   "cell_type": "markdown",
   "metadata": {},
   "source": [
    "L'exécution de la méthode my_ca.fit(X) provoque a minima le calcul des attributs :\n",
    " * my\\_ca.eig\\_ : valeurs propres\n",
    " * my\\_ca.row\\_coord\\_ : coordonnées des points lignes\n",
    " * my\\_ca.col\\_coord\\_ : coordonnées des points colonnes"
   ]
  },
  {
   "cell_type": "code",
   "execution_count": 3,
   "metadata": {},
   "outputs": [],
   "source": [
    "my_ca = CA(row_labels=df.index.values, col_labels=df.columns.values)"
   ]
  },
  {
   "cell_type": "code",
   "execution_count": 4,
   "metadata": {},
   "outputs": [
    {
     "data": {
      "text/html": [
       "<div>\n",
       "<style scoped>\n",
       "    .dataframe tbody tr th:only-of-type {\n",
       "        vertical-align: middle;\n",
       "    }\n",
       "\n",
       "    .dataframe tbody tr th {\n",
       "        vertical-align: top;\n",
       "    }\n",
       "\n",
       "    .dataframe thead th {\n",
       "        text-align: right;\n",
       "    }\n",
       "</style>\n",
       "<table border=\"1\" class=\"dataframe\">\n",
       "  <thead>\n",
       "    <tr style=\"text-align: right;\">\n",
       "      <th></th>\n",
       "      <th>Prof</th>\n",
       "      <th>Radio</th>\n",
       "      <th>Tel.</th>\n",
       "      <th>Quot.Nat.</th>\n",
       "      <th>Quot.Reg.</th>\n",
       "      <th>Press.Mag.</th>\n",
       "      <th>Press.TV</th>\n",
       "    </tr>\n",
       "  </thead>\n",
       "  <tbody>\n",
       "    <tr>\n",
       "      <th>0</th>\n",
       "      <td>Agriculteur</td>\n",
       "      <td>96</td>\n",
       "      <td>118</td>\n",
       "      <td>2</td>\n",
       "      <td>71</td>\n",
       "      <td>50</td>\n",
       "      <td>17</td>\n",
       "    </tr>\n",
       "    <tr>\n",
       "      <th>1</th>\n",
       "      <td>Petit.Patr.</td>\n",
       "      <td>122</td>\n",
       "      <td>136</td>\n",
       "      <td>11</td>\n",
       "      <td>76</td>\n",
       "      <td>49</td>\n",
       "      <td>41</td>\n",
       "    </tr>\n",
       "    <tr>\n",
       "      <th>2</th>\n",
       "      <td>Prof.Cad.Sup</td>\n",
       "      <td>193</td>\n",
       "      <td>184</td>\n",
       "      <td>74</td>\n",
       "      <td>63</td>\n",
       "      <td>103</td>\n",
       "      <td>79</td>\n",
       "    </tr>\n",
       "    <tr>\n",
       "      <th>3</th>\n",
       "      <td>Prof.Int.</td>\n",
       "      <td>360</td>\n",
       "      <td>365</td>\n",
       "      <td>63</td>\n",
       "      <td>145</td>\n",
       "      <td>141</td>\n",
       "      <td>184</td>\n",
       "    </tr>\n",
       "    <tr>\n",
       "      <th>4</th>\n",
       "      <td>Employe</td>\n",
       "      <td>511</td>\n",
       "      <td>593</td>\n",
       "      <td>57</td>\n",
       "      <td>217</td>\n",
       "      <td>172</td>\n",
       "      <td>306</td>\n",
       "    </tr>\n",
       "    <tr>\n",
       "      <th>5</th>\n",
       "      <td>Ouvr.Qualif.</td>\n",
       "      <td>385</td>\n",
       "      <td>457</td>\n",
       "      <td>42</td>\n",
       "      <td>174</td>\n",
       "      <td>104</td>\n",
       "      <td>220</td>\n",
       "    </tr>\n",
       "    <tr>\n",
       "      <th>6</th>\n",
       "      <td>Ouvr.Non-Qual.</td>\n",
       "      <td>156</td>\n",
       "      <td>185</td>\n",
       "      <td>8</td>\n",
       "      <td>69</td>\n",
       "      <td>42</td>\n",
       "      <td>85</td>\n",
       "    </tr>\n",
       "    <tr>\n",
       "      <th>7</th>\n",
       "      <td>Inactif</td>\n",
       "      <td>1474</td>\n",
       "      <td>1931</td>\n",
       "      <td>181</td>\n",
       "      <td>852</td>\n",
       "      <td>642</td>\n",
       "      <td>782</td>\n",
       "    </tr>\n",
       "  </tbody>\n",
       "</table>\n",
       "</div>"
      ],
      "text/plain": [
       "             Prof  Radio  Tel.  Quot.Nat.  Quot.Reg.  Press.Mag.  Press.TV\n",
       "0     Agriculteur     96   118          2         71          50        17\n",
       "1     Petit.Patr.    122   136         11         76          49        41\n",
       "2    Prof.Cad.Sup    193   184         74         63         103        79\n",
       "3       Prof.Int.    360   365         63        145         141       184\n",
       "4         Employe    511   593         57        217         172       306\n",
       "5    Ouvr.Qualif.    385   457         42        174         104       220\n",
       "6  Ouvr.Non-Qual.    156   185          8         69          42        85\n",
       "7         Inactif   1474  1931        181        852         642       782"
      ]
     },
     "execution_count": 4,
     "metadata": {},
     "output_type": "execute_result"
    }
   ],
   "source": [
    "df.iloc[:, :]"
   ]
  },
  {
   "cell_type": "code",
   "execution_count": 5,
   "metadata": {},
   "outputs": [
    {
     "data": {
      "text/plain": [
       "CA(col_labels=array(['Prof', 'Radio', 'Tel.', 'Quot.Nat.', 'Quot.Reg.', 'Press.Mag.',\n",
       "       'Press.TV'], dtype=object),\n",
       "   row_labels=array([0, 1, 2, 3, 4, 5, 6, 7], dtype=int64))"
      ]
     },
     "execution_count": 5,
     "metadata": {},
     "output_type": "execute_result"
    }
   ],
   "source": [
    "my_ca.fit(np.array(df.iloc[:, 1:]))\n",
    "## Analyse des valeurs propres"
   ]
  },
  {
   "cell_type": "markdown",
   "metadata": {},
   "source": [
    "L'attribut my\\_ca.eig\\_ contient :\n",
    " * en 1ère ligne : les valeurs propres en valeur absolue\n",
    " * en 2ème ligne : les valeurs propres en pourcentage de la variance totale\n",
    " * en 3ème ligne : les valeurs propres en pourcentage cumulé de la variance totale"
   ]
  },
  {
   "cell_type": "code",
   "execution_count": 6,
   "metadata": {},
   "outputs": [
    {
     "name": "stdout",
     "output_type": "stream",
     "text": [
      "[[1.38572868e-02 7.21068498e-03 8.24731391e-04 3.03851641e-04\n",
      "  8.26930155e-05]\n",
      " [6.21981806e+01 3.23650288e+01 3.70179190e+00 1.36383258e+00\n",
      "  3.71166101e-01]\n",
      " [6.21981806e+01 9.45632094e+01 9.82650013e+01 9.96288339e+01\n",
      "  1.00000000e+02]]\n"
     ]
    }
   ],
   "source": [
    "print(my_ca.eig_)"
   ]
  },
  {
   "cell_type": "markdown",
   "metadata": {},
   "source": [
    "Les valeurs propres peuvent être représentées graphiquement (par défaut : représentation en valeur absolue)."
   ]
  },
  {
   "cell_type": "code",
   "execution_count": 7,
   "metadata": {},
   "outputs": [
    {
     "data": {
      "image/png": "[encoded data removed]",
      "text/plain": [
       "<Figure size 432x288 with 1 Axes>"
      ]
     },
     "metadata": {
      "needs_background": "light"
     },
     "output_type": "display_data"
    }
   ],
   "source": [
    "my_ca.plot_eigenvalues()"
   ]
  },
  {
   "cell_type": "code",
   "execution_count": 8,
   "metadata": {},
   "outputs": [
    {
     "data": {
      "image/png": "[encoded data removed]",
      "text/plain": [
       "<Figure size 432x288 with 1 Axes>"
      ]
     },
     "metadata": {
      "needs_background": "light"
     },
     "output_type": "display_data"
    }
   ],
   "source": [
    "my_ca.plot_eigenvalues(type=\"percentage\")"
   ]
  },
  {
   "cell_type": "code",
   "execution_count": 9,
   "metadata": {},
   "outputs": [
    {
     "data": {
      "image/png": "[encoded data removed]",
      "text/plain": [
       "<Figure size 432x288 with 1 Axes>"
      ]
     },
     "metadata": {
      "needs_background": "light"
     },
     "output_type": "display_data"
    }
   ],
   "source": [
    "my_ca.plot_eigenvalues(type=\"cumulative\")"
   ]
  },
  {
   "cell_type": "markdown",
   "metadata": {},
   "source": [
    "Quand l'objet my\\_ca a été instancié, son paramètre stats a reçu la valeur True par défaut.\n",
    "En conséquence, lors de l'exécution de la méthode my\\_ca.fit(X), les statistiques suivantes ont été calculées :\n",
    "\n",
    " * my\\_ca.row\\_contrib\\_ : contributions des points lignes à la variance de l'axe\n",
    " * my\\_ca.col\\_contrib\\_ : contributions des points colonnes à la variance de l'axe\n",
    " * my\\_ca.row\\_cos2\\_ : cosinus carrés des points lignes\n",
    " * my\\_ca.col\\_cos2\\_ : cosinus carrés des points colonnes\n",
    " \n",
    "Si l'on avait souhaité éviter le calcul de ces statistiques pour gagner du temps et économiser des ressources mémoire, il aurait fallu instancier :\n",
    "my\\_ca = CA(stats=False)\n",
    "\n",
    "Par défaut, les coordonnées des points lignes et colonnes, leurs contributions et cosinus carrés sont calculés sur l'ensemble des axes extraits de l'analyse.\n",
    "On aurait toutefois pu spécifier le nombre d'axes à retenir via le paramètre n_components avec par exemple :\n",
    "my\\_ca = CA(n_components=3)"
   ]
  },
  {
   "cell_type": "markdown",
   "metadata": {},
   "source": [
    "## Extraction des statistiques sur les points lignes"
   ]
  },
  {
   "cell_type": "markdown",
   "metadata": {},
   "source": [
    "### Export de la totalité des données lignes vers une DataFrame pandas"
   ]
  },
  {
   "cell_type": "markdown",
   "metadata": {},
   "source": [
    "On peut simplement envoyer vers une Dataframe : les coordonnées, les contributions et les cos2 de chacun des points lignes, pour tous les axes factoriels (identifiés par les suffixes dim1, dim2, etc.)."
   ]
  },
  {
   "cell_type": "code",
   "execution_count": 10,
   "metadata": {},
   "outputs": [],
   "source": [
    "df_rows = my_ca.row_topandas()"
   ]
  },
  {
   "cell_type": "code",
   "execution_count": 11,
   "metadata": {},
   "outputs": [
    {
     "name": "stdout",
     "output_type": "stream",
     "text": [
      "   row_coord_dim1  row_coord_dim2  row_coord_dim3  row_coord_dim4  \\\n",
      "0        0.166150        0.309612       -0.071838       -0.014433   \n",
      "1        0.068377        0.143151       -0.064422        0.020370   \n",
      "2       -0.429976        0.060873       -0.003021        0.016811   \n",
      "3       -0.106603       -0.032597       -0.030898       -0.025333   \n",
      "4        0.015729       -0.095469       -0.005087       -0.020294   \n",
      "5        0.043713       -0.101379       -0.019323        0.035411   \n",
      "6        0.117797       -0.094864       -0.039728        0.003493   \n",
      "7        0.032584        0.033395        0.025968        0.000553   \n",
      "\n",
      "   row_coord_dim5  row_contrib_dim1  row_contrib_dim2  row_contrib_dim3  \\\n",
      "0        0.021440          5.692772         37.989221         17.881318   \n",
      "1       -0.025687          1.184762          9.979255         17.670138   \n",
      "2        0.011233         74.957901          2.887188          0.062182   \n",
      "3       -0.011955          8.327911          1.496416         11.755243   \n",
      "4        0.003462          0.267471         18.937575          0.470061   \n",
      "5       -0.001730          1.538298         15.900944          5.050788   \n",
      "6        0.022484          4.405391          5.490645          8.419296   \n",
      "7       -0.000935          3.625494          7.318755         38.690973   \n",
      "\n",
      "   row_contrib_dim4  row_contrib_dim5  row_cos2_dim1  row_cos2_dim2  \\\n",
      "0          1.958972         15.885000       0.213512       0.741407   \n",
      "1          4.795372         28.018010       0.153835       0.674250   \n",
      "2          5.225667          8.573235       0.978183       0.019605   \n",
      "3         21.448281         17.552234       0.802207       0.075007   \n",
      "4         20.308140          2.171116       0.025214       0.928949   \n",
      "5         46.039302          0.403818       0.138275       0.743745   \n",
      "6          0.176666         26.896055       0.555680       0.360381   \n",
      "7          0.047599          0.500533       0.372204       0.390976   \n",
      "\n",
      "   row_cos2_dim3  row_cos2_dim4  row_cos2_dim5  \n",
      "0       0.039915       0.001611       0.003555  \n",
      "1       0.136552       0.013653       0.021710  \n",
      "2       0.000048       0.001495       0.000668  \n",
      "3       0.067393       0.045303       0.010090  \n",
      "4       0.002637       0.041978       0.001221  \n",
      "5       0.027021       0.090743       0.000217  \n",
      "6       0.063205       0.000489       0.020245  \n",
      "7       0.236406       0.000107       0.000307  \n"
     ]
    }
   ],
   "source": [
    "print(df_rows)"
   ]
  },
  {
   "cell_type": "markdown",
   "metadata": {},
   "source": [
    "# Statistiques pour les points lignes"
   ]
  },
  {
   "cell_type": "code",
   "execution_count": 12,
   "metadata": {},
   "outputs": [
    {
     "name": "stdout",
     "output_type": "stream",
     "text": [
      "[[ 0.16614986  0.30961174 -0.07183812 -0.01443258  0.02144011]\n",
      " [ 0.06837709  0.14315064 -0.0644217   0.02037032 -0.02568674]\n",
      " [-0.42997558  0.06087258 -0.00302124  0.01681116  0.01123318]\n",
      " [-0.10660251 -0.03259679 -0.03089814 -0.02533304 -0.01195531]\n",
      " [ 0.01572857 -0.09546893 -0.00508681 -0.02029446  0.00346168]\n",
      " [ 0.04371252 -0.1013786  -0.01932335  0.03541129 -0.00173011]\n",
      " [ 0.11779685 -0.09486419 -0.03972798  0.00349309  0.02248439]\n",
      " [ 0.0325837   0.03339524  0.02596802  0.00055285 -0.00093525]]\n"
     ]
    }
   ],
   "source": [
    "# Coordonnées des points lignes\n",
    "print(my_ca.row_coord_)"
   ]
  },
  {
   "cell_type": "code",
   "execution_count": 13,
   "metadata": {},
   "outputs": [
    {
     "name": "stdout",
     "output_type": "stream",
     "text": [
      "[[5.69277232e+00 3.79892214e+01 1.78813176e+01 1.95897194e+00\n",
      "  1.58850001e+01]\n",
      " [1.18476189e+00 9.97925473e+00 1.76701383e+01 4.79537182e+00\n",
      "  2.80180099e+01]\n",
      " [7.49579010e+01 2.88718751e+00 6.21822742e-02 5.22566729e+00\n",
      "  8.57323474e+00]\n",
      " [8.32791077e+00 1.49641640e+00 1.17552426e+01 2.14482814e+01\n",
      "  1.75522340e+01]\n",
      " [2.67471308e-01 1.89375750e+01 4.70061383e-01 2.03081396e+01\n",
      "  2.17111555e+00]\n",
      " [1.53829776e+00 1.59009442e+01 5.05078817e+00 4.60393024e+01\n",
      "  4.03817678e-01]\n",
      " [4.40539088e+00 5.49064526e+00 8.41929638e+00 1.76666131e-01\n",
      "  2.68960553e+01]\n",
      " [3.62549412e+00 7.31875549e+00 3.86909733e+01 4.75993841e-02\n",
      "  5.00532813e-01]]\n"
     ]
    }
   ],
   "source": [
    "# Contributions des points lignes\n",
    "print(my_ca.row_contrib_)"
   ]
  },
  {
   "cell_type": "code",
   "execution_count": 14,
   "metadata": {},
   "outputs": [
    {
     "name": "stdout",
     "output_type": "stream",
     "text": [
      "[[2.13511817e-01 7.41407219e-01 3.99146143e-02 1.61105251e-03\n",
      "  3.55529749e-03]\n",
      " [1.53835147e-01 6.74249941e-01 1.36552219e-01 1.36530650e-02\n",
      "  2.17096289e-02]\n",
      " [9.78183352e-01 1.96054203e-02 4.82951781e-05 1.49529881e-03\n",
      "  6.67633606e-04]\n",
      " [8.02207290e-01 7.50069172e-02 6.73932587e-02 4.53029435e-02\n",
      "  1.00895911e-02]\n",
      " [2.52142692e-02 9.28948989e-01 2.63729115e-03 4.19780929e-02\n",
      "  1.22135734e-03]\n",
      " [1.38274790e-01 7.43744603e-01 2.70206674e-02 9.07433300e-02\n",
      "  2.16610023e-04]\n",
      " [5.55680182e-01 3.60381228e-01 6.32048750e-02 4.88626636e-04\n",
      "  2.02450881e-02]\n",
      " [3.72204454e-01 3.90975835e-01 2.36405913e-01 1.07151702e-04\n",
      "  3.06646165e-04]]\n"
     ]
    }
   ],
   "source": [
    "# Cos2 des points lignes\n",
    "print(my_ca.row_cos2_)"
   ]
  },
  {
   "cell_type": "markdown",
   "metadata": {},
   "source": [
    "## Extraction des statistiques sur les points colonnes"
   ]
  },
  {
   "cell_type": "markdown",
   "metadata": {},
   "source": [
    "### Export de la totalité des données colonnes vers une DataFrame pandas"
   ]
  },
  {
   "cell_type": "markdown",
   "metadata": {},
   "source": [
    "On peut envoyer vers une Dataframe : les coordonnées, les contributions et les cos2 de chacun des points colonnes, pour tous les axes factoriels (identifiés par les suffixes dim1, dim2, etc.)."
   ]
  },
  {
   "cell_type": "code",
   "execution_count": 15,
   "metadata": {},
   "outputs": [],
   "source": [
    "df_cols = my_ca.col_topandas()"
   ]
  },
  {
   "cell_type": "code",
   "execution_count": 16,
   "metadata": {},
   "outputs": [
    {
     "name": "stdout",
     "output_type": "stream",
     "text": [
      "      col_coord_dim1  col_coord_dim2  col_coord_dim3  col_coord_dim4  \\\n",
      "col0       -0.014940       -0.022106       -0.046702       -0.002662   \n",
      "col1        0.053283       -0.002081        0.016453        0.011218   \n",
      "col2       -0.540675        0.006207        0.020542        0.039523   \n",
      "col3        0.108828        0.109645        0.005228        0.013042   \n",
      "col4       -0.094813        0.132497        0.018758       -0.038309   \n",
      "col5        0.009754       -0.161609        0.027141       -0.014518   \n",
      "\n",
      "      col_coord_dim5  col_contrib_dim1  col_contrib_dim2  col_contrib_dim3  \\\n",
      "col0        0.000680          0.428700          1.803681         70.383604   \n",
      "col1        0.009850          6.564128          0.019242         10.516012   \n",
      "col2       -0.006617         74.587719          0.018890          1.809035   \n",
      "col3       -0.016560         11.501128         22.435641          0.446007   \n",
      "col4        0.003719          6.823338         25.608027          4.487719   \n",
      "col5       -0.009147          0.094987         50.114518         12.357623   \n",
      "\n",
      "      col_contrib_dim4  col_contrib_dim5  col_cos2_dim1  col_cos2_dim2  \\\n",
      "col0          0.620659          0.148890       0.076956       0.168480   \n",
      "col1         13.270038         37.591510       0.850792       0.001298   \n",
      "col2         18.176336          1.872341       0.992981       0.000131   \n",
      "col3          7.532438         44.628215       0.486643       0.493977   \n",
      "col4         50.803517          1.759155       0.316773       0.618623   \n",
      "col5          9.597012         13.999889       0.003492       0.958663   \n",
      "\n",
      "      col_cos2_dim3  col_cos2_dim4  col_cos2_dim5  \n",
      "col0       0.751961       0.002443       0.000159  \n",
      "col1       0.081121       0.037714       0.029075  \n",
      "col2       0.001433       0.005306       0.000149  \n",
      "col3       0.001123       0.006989       0.011269  \n",
      "col4       0.012400       0.051716       0.000487  \n",
      "col5       0.027038       0.007736       0.003071  \n"
     ]
    }
   ],
   "source": [
    "print(df_cols)"
   ]
  },
  {
   "cell_type": "code",
   "execution_count": 17,
   "metadata": {
    "scrolled": true
   },
   "outputs": [
    {
     "name": "stdout",
     "output_type": "stream",
     "text": [
      "[[-0.01494022 -0.02210596 -0.04670175 -0.00266194  0.00068016]\n",
      " [ 0.05328288 -0.002081    0.01645288  0.0112183   0.00985007]\n",
      " [-0.54067502  0.00620677  0.02054203  0.03952278 -0.00661745]\n",
      " [ 0.10882837  0.10964537  0.00522829  0.01304161 -0.01656044]\n",
      " [-0.09481257  0.13249659  0.01875847 -0.03830946  0.0037189 ]\n",
      " [ 0.00975363 -0.16160888  0.02714057 -0.01451757 -0.00914728]]\n"
     ]
    }
   ],
   "source": [
    "# Coordonnées des points colonnes\n",
    "print(my_ca.col_coord_)"
   ]
  },
  {
   "cell_type": "code",
   "execution_count": 18,
   "metadata": {},
   "outputs": [
    {
     "name": "stdout",
     "output_type": "stream",
     "text": [
      "[[4.28700199e-01 1.80368136e+00 7.03836037e+01 6.20658916e-01\n",
      "  1.48890251e-01]\n",
      " [6.56412758e+00 1.92419243e-02 1.05160124e+01 1.32700380e+01\n",
      "  3.75915100e+01]\n",
      " [7.45877189e+01 1.88897960e-02 1.80903503e+00 1.81763356e+01\n",
      "  1.87234094e+00]\n",
      " [1.15011283e+01 2.24356413e+01 4.46006948e-01 7.53243787e+00\n",
      "  4.46282147e+01]\n",
      " [6.82333790e+00 2.56080275e+01 4.48771875e+00 5.08035174e+01\n",
      "  1.75915503e+00]\n",
      " [9.49870405e-02 5.01145182e+01 1.23576232e+01 9.59701224e+00\n",
      "  1.39998891e+01]]\n"
     ]
    }
   ],
   "source": [
    "# Contributions des points colonnes\n",
    "print(my_ca.col_contrib_)"
   ]
  },
  {
   "cell_type": "code",
   "execution_count": 19,
   "metadata": {},
   "outputs": [
    {
     "name": "stdout",
     "output_type": "stream",
     "text": [
      "[[7.69561735e-02 1.68479830e-01 7.51961487e-01 2.44301514e-03\n",
      "  1.59494851e-04]\n",
      " [8.50792093e-01 1.29775661e-03 8.11207283e-02 3.77139463e-02\n",
      "  2.90754756e-02]\n",
      " [9.92981084e-01 1.30857685e-04 1.43335889e-03 5.30595256e-03\n",
      "  1.48747339e-04]\n",
      " [4.86642767e-01 4.93976885e-01 1.12317070e-03 6.98857711e-03\n",
      "  1.12685999e-02]\n",
      " [3.16773320e-01 6.18623139e-01 1.23997140e-02 5.17164707e-02\n",
      "  4.87356154e-04]\n",
      " [3.49195247e-03 9.58662728e-01 2.70379173e-02 7.73612354e-03\n",
      "  3.07127840e-03]]\n"
     ]
    }
   ],
   "source": [
    "# Cos2 des points colonnes\n",
    "print(my_ca.col_cos2_)"
   ]
  },
  {
   "cell_type": "markdown",
   "metadata": {},
   "source": [
    "### Graphiques"
   ]
  },
  {
   "cell_type": "markdown",
   "metadata": {},
   "source": [
    "2 types de graphiques peuvent être réalisés :\n",
    "\n",
    "Les mapping classiques qui représentent les points lignes et colonnes sur un plan factoriel\n",
    "Des graphiques qui permettent d'interpréter rapidement les axes : on choisit un axe factoriel (le 1er axe dans notre exemple) et on observe quels sont les points lignes et colonnes qui présentent les plus fortes contributions et cos2 pour cet axe\n",
    "</p>"
   ]
  },
  {
   "cell_type": "markdown",
   "metadata": {},
   "source": [
    "#### Graphiques factoriels"
   ]
  },
  {
   "cell_type": "code",
   "execution_count": 20,
   "metadata": {},
   "outputs": [
    {
     "data": {
      "image/png": "[encoded data removed]",
      "text/plain": [
       "<Figure size 432x288 with 1 Axes>"
      ]
     },
     "metadata": {
      "needs_background": "light"
     },
     "output_type": "display_data"
    }
   ],
   "source": [
    "# Mapping simultané des points lignes et colonnes\n",
    "# Les paramètres de la méthode mapping indiquent que ce sont les axes 1 et 2 qui sont ici représentés\n",
    "my_ca.mapping(num_x_axis=1, num_y_axis=2)"
   ]
  },
  {
   "cell_type": "code",
   "execution_count": 21,
   "metadata": {},
   "outputs": [
    {
     "data": {
      "image/png": "[encoded data removed]",
      "text/plain": [
       "<Figure size 432x288 with 1 Axes>"
      ]
     },
     "metadata": {
      "needs_background": "light"
     },
     "output_type": "display_data"
    }
   ],
   "source": [
    "# Mapping des points lignes\n",
    "my_ca.mapping_row(num_x_axis=1, num_y_axis=2)"
   ]
  },
  {
   "cell_type": "code",
   "execution_count": 3,
   "metadata": {},
   "outputs": [
    {
     "ename": "NameError",
     "evalue": "name 'afc' is not defined",
     "output_type": "error",
     "traceback": [
      "\u001b[1;31m---------------------------------------------------------------------------\u001b[0m",
      "\u001b[1;31mNameError\u001b[0m                                 Traceback (most recent call last)",
      "\u001b[1;32m<ipython-input-3-eda0ba80938d>\u001b[0m in \u001b[0;36m<module>\u001b[1;34m\u001b[0m\n\u001b[0;32m      1\u001b[0m \u001b[1;31m# Mapping des points colonnes\u001b[0m\u001b[1;33m\u001b[0m\u001b[1;33m\u001b[0m\u001b[1;33m\u001b[0m\u001b[0m\n\u001b[1;32m----> 2\u001b[1;33m \u001b[0mafc\u001b[0m\u001b[1;33m.\u001b[0m\u001b[0mmapping_col\u001b[0m\u001b[1;33m(\u001b[0m\u001b[0mnum_x_axis\u001b[0m\u001b[1;33m=\u001b[0m\u001b[1;36m1\u001b[0m\u001b[1;33m,\u001b[0m \u001b[0mnum_y_axis\u001b[0m\u001b[1;33m=\u001b[0m\u001b[1;36m2\u001b[0m\u001b[1;33m)\u001b[0m\u001b[1;33m\u001b[0m\u001b[1;33m\u001b[0m\u001b[0m\n\u001b[0m",
      "\u001b[1;31mNameError\u001b[0m: name 'afc' is not defined"
     ]
    }
   ],
   "source": [
    "# Mapping des points colonnes\n",
    "my_ca.mapping_col(num_x_axis=1, num_y_axis=)"
   ]
  },
  {
   "cell_type": "markdown",
   "metadata": {},
   "source": [
    "### Analyse du 1er axe - Points lignes"
   ]
  },
  {
   "cell_type": "code",
   "execution_count": 23,
   "metadata": {},
   "outputs": [
    {
     "data": {
      "image/png": "[encoded data removed]",
      "text/plain": [
       "<Figure size 432x288 with 1 Axes>"
      ]
     },
     "metadata": {
      "needs_background": "light"
     },
     "output_type": "display_data"
    }
   ],
   "source": [
    "# Classement des points lignes en fonction de leur contribution au 1er axe\n",
    "# Le paramètre de la méthode plot_row_contrib indique que c'est pour l'axe numéro 1 que les contributions sont ici \n",
    "# représentées\n",
    "my_ca.plot_row_contrib(num_axis=1)"
   ]
  },
  {
   "cell_type": "code",
   "execution_count": 24,
   "metadata": {},
   "outputs": [
    {
     "data": {
      "image/png": "[encoded data removed]",
      "text/plain": [
       "<Figure size 432x288 with 1 Axes>"
      ]
     },
     "metadata": {
      "needs_background": "light"
     },
     "output_type": "display_data"
    }
   ],
   "source": [
    "# Classement des points lignes en fonction de leur cos2 sur le 1er axe\n",
    "my_ca.plot_row_cos2(num_axis=1)"
   ]
  },
  {
   "cell_type": "markdown",
   "metadata": {},
   "source": [
    "### Analyse du 1er axe - Points colonnes"
   ]
  },
  {
   "cell_type": "code",
   "execution_count": 25,
   "metadata": {},
   "outputs": [
    {
     "data": {
      "image/png": "[encoded data removed]",
      "text/plain": [
       "<Figure size 432x288 with 1 Axes>"
      ]
     },
     "metadata": {
      "needs_background": "light"
     },
     "output_type": "display_data"
    }
   ],
   "source": [
    "# Classement des points colonnes en fonction de leur contribution au 1er axe\n",
    "my_ca.plot_col_contrib(num_axis=1)"
   ]
  },
  {
   "cell_type": "code",
   "execution_count": 26,
   "metadata": {},
   "outputs": [
    {
     "data": {
      "image/png": "[encoded data removed]",
      "text/plain": [
       "<Figure size 432x288 with 1 Axes>"
      ]
     },
     "metadata": {
      "needs_background": "light"
     },
     "output_type": "display_data"
    }
   ],
   "source": [
    "# Classement des points colonnes en fonction de leur cos2 sur le 1er axe\n",
    "my_ca.plot_col_cos2(num_axis=1)"
   ]
  },
  {
   "cell_type": "code",
   "execution_count": 27,
   "metadata": {},
   "outputs": [
    {
     "data": {
      "image/png": "[encoded data removed]",
      "text/plain": [
       "<Figure size 720x576 with 1 Axes>"
      ]
     },
     "metadata": {
      "needs_background": "light"
     },
     "output_type": "display_data"
    }
   ],
   "source": [
    "my_ca.mapping(1, 2, figsize=(10, 8))"
   ]
  },
  {
   "cell_type": "markdown",
   "metadata": {},
   "source": [
    "## Projection de points lignes supplémentaires"
   ]
  },
  {
   "cell_type": "markdown",
   "metadata": {},
   "source": [
    "La classe CA implémente les méthodes fit, transform et fit_transform bien connues des utilisateurs de scikit-learn.\n",
    "\n",
    "Ces méthodes vont nous permettre de projetter des points lignes sur les axes factoriels.\n",
    "\n",
    "Il est ici judicieux de fixer le paramètre stats à False pour gagner en temps de traitement et en ressources mémoire."
   ]
  },
  {
   "cell_type": "code",
   "execution_count": 30,
   "metadata": {},
   "outputs": [],
   "source": [
    "my_ca = CA(stats=False)"
   ]
  },
  {
   "cell_type": "code",
   "execution_count": 34,
   "metadata": {},
   "outputs": [
    {
     "data": {
      "text/plain": [
       "CA(stats=False)"
      ]
     },
     "execution_count": 34,
     "metadata": {},
     "output_type": "execute_result"
    }
   ],
   "source": [
    "# Estimation du modèle\n",
    "my_ca.fit(np.array(df.iloc[:, 1:]))"
   ]
  },
  {
   "cell_type": "code",
   "execution_count": 35,
   "metadata": {},
   "outputs": [
    {
     "data": {
      "text/plain": [
       "array([[ 0.16614986,  0.30961174, -0.07183812, -0.01443258,  0.02144011],\n",
       "       [ 0.06837709,  0.14315064, -0.0644217 ,  0.02037032, -0.02568674],\n",
       "       [-0.42997558,  0.06087258, -0.00302124,  0.01681116,  0.01123318],\n",
       "       [-0.10660251, -0.03259679, -0.03089814, -0.02533304, -0.01195531],\n",
       "       [ 0.01572857, -0.09546893, -0.00508681, -0.02029446,  0.00346168],\n",
       "       [ 0.04371252, -0.1013786 , -0.01932335,  0.03541129, -0.00173011],\n",
       "       [ 0.11779685, -0.09486419, -0.03972798,  0.00349309,  0.02248439],\n",
       "       [ 0.0325837 ,  0.03339524,  0.02596802,  0.00055285, -0.00093525]])"
      ]
     },
     "execution_count": 35,
     "metadata": {},
     "output_type": "execute_result"
    }
   ],
   "source": [
    "my_ca.transform(np.array(df.iloc[:, 1:]))"
   ]
  },
  {
   "cell_type": "code",
   "execution_count": 37,
   "metadata": {},
   "outputs": [
    {
     "data": {
      "text/plain": [
       "array([[ 0.16614986,  0.30961174, -0.07183812, -0.01443258,  0.02144011],\n",
       "       [ 0.06837709,  0.14315064, -0.0644217 ,  0.02037032, -0.02568674],\n",
       "       [-0.42997558,  0.06087258, -0.00302124,  0.01681116,  0.01123318],\n",
       "       [-0.10660251, -0.03259679, -0.03089814, -0.02533304, -0.01195531],\n",
       "       [ 0.01572857, -0.09546893, -0.00508681, -0.02029446,  0.00346168],\n",
       "       [ 0.04371252, -0.1013786 , -0.01932335,  0.03541129, -0.00173011],\n",
       "       [ 0.11779685, -0.09486419, -0.03972798,  0.00349309,  0.02248439],\n",
       "       [ 0.0325837 ,  0.03339524,  0.02596802,  0.00055285, -0.00093525]])"
      ]
     },
     "execution_count": 37,
     "metadata": {},
     "output_type": "execute_result"
    }
   ],
   "source": [
    "# Idem en une seule étape\n",
    "my_ca.fit_transform(np.array(df.iloc[:, 1:]))"
   ]
  },
  {
   "cell_type": "code",
   "execution_count": 38,
   "metadata": {},
   "outputs": [
    {
     "data": {
      "text/plain": [
       "array([[-0.85659025,  0.11271178,  0.44021711, -0.19738323, -0.02993141]])"
      ]
     },
     "execution_count": 38,
     "metadata": {},
     "output_type": "execute_result"
    }
   ],
   "source": [
    "# Projection d'une ligne supplémentaire\n",
    "my_ca.transform([[25, 54, 41, 11, 65, 44]])"
   ]
  },
  {
   "cell_type": "code",
   "execution_count": null,
   "metadata": {},
   "outputs": [],
   "source": []
  }
 ],
 "metadata": {
  "kernelspec": {
   "display_name": "Python 3",
   "language": "python",
   "name": "python3"
  },
  "language_info": {
   "codemirror_mode": {
    "name": "ipython",
    "version": 3
   },
   "file_extension": ".py",
   "mimetype": "text/x-python",
   "name": "python",
   "nbconvert_exporter": "python",
   "pygments_lexer": "ipython3",
   "version": "3.8.5"
  }
 },
 "nbformat": 4,
 "nbformat_minor": 4
}
