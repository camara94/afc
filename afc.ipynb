{
 "cells": [
  {
   "cell_type": "markdown",
   "metadata": {},
   "source": [
    "## Dans ce devoir, nous allons aborder les sujets suivants:\n",
    "\n",
    "* Analyse factorielle\n",
    "* Types d'analyse factorielle\n",
    "* Déterminer le nombre de facteurs\n",
    "* Analyse factorielle Vs. Analyse des composants principaux\n",
    "* Analyse factorielle en python\n",
    "* Test d'adéquation\n",
    "* Interpréter les résultats\n",
    "* Avantages et inconvénients de l'analyse factorielle\n",
    "* Conclusion"
   ]
  },
  {
   "cell_type": "markdown",
   "metadata": {},
   "source": [
    "##  Analyse factorielle\n",
    "L'analyse factorielle est un modèle statistique linéaire. Il est utilisé pour expliquer la variance entre la variable observée et condenser un ensemble de la variable observée dans la variable non observée appelée facteurs. Les variables observées sont modélisées comme une combinaison linéaire de facteurs et de termes d'erreur (Source). Le facteur ou la variable latente est associé à de multiples variables observées, qui ont des modèles de réponses communs. Chaque facteur explique une quantité particulière de variance dans les variables observées. Il aide à interpréter les données en réduisant le nombre de variables."
   ]
  },
  {
   "cell_type": "markdown",
   "metadata": {},
   "source": [
    "## Hypothèses:\n",
    "1. Il n'y a pas de valeurs aberrantes dans les données.\n",
    "2. La taille de l'échantillon doit être supérieure au facteur.\n",
    "3. Il ne devrait pas y avoir de multicolinéarité parfaite.\n",
    "4. Il ne devrait pas y avoir d'homoscédasticité entre les variables."
   ]
  },
  {
   "cell_type": "markdown",
   "metadata": {},
   "source": [
    "## Analyse factorielle Vs. Analyse des composants principaux\n",
    "* Les composantes de l'ACP expliquent la quantité maximale de variance tandis que l'analyse factorielle explique la covariance des données.\n",
    "* Les composantes de l'ACP sont entièrement orthogonales les unes par rapport aux autres, tandis que l'analyse factorielle ne nécessite pas que les facteurs soient orthogonaux.\n",
    "* La composante PCA est une combinaison linéaire de la variable observée alors qu'en FA, les variables observées sont des combinaisons linéaires de la variable ou du facteur non observé.\n",
    "* Les composants PCA ne sont pas interprétables. En FA, les facteurs sous-jacents sont étiquetables et interprétables.\n",
    "* L'ACP est une sorte de méthode de réduction de dimensionnalité alors que l'analyse factorielle est la méthode des variables latentes.\n",
    "*L'ACP est un type d'analyse factorielle. L'ACP est observationnelle alors que l'AF est une technique de modélisation."
   ]
  },
  {
   "cell_type": "markdown",
   "metadata": {},
   "source": [
    "## Sources:\n",
    "1. [le site Quora -> https://www.quora.com/What-are-the-main-differences-between-a-principal-component-analysis-and-a-factor-analysis](https://www.quora.com/What-are-the-main-differences-between-a-principal-component-analysis-and-a-factor-analysis)\n",
    "2. [le site datacamp -> https://www.datacamp.com/community/tutorials/introduction-factor-analysis](https://www.datacamp.com/community/tutorials/introduction-factor-analysis)\n",
    "3. [le openclassrooms ->https://openclassrooms.com/fr/courses/4525281-realisez-une-analyse-exploratoire-de-donnees](https://openclassrooms.com/fr/courses/4525281-realisez-une-analyse-exploratoire-de-donnees)"
   ]
  },
  {
   "cell_type": "markdown",
   "metadata": {},
   "source": [
    "## Analyse factorielle en python à l'aide du package factor_analyzer et \n",
    "Importer les bibliothèques requises"
   ]
  },
  {
   "cell_type": "code",
   "execution_count": 1,
   "metadata": {},
   "outputs": [],
   "source": [
    "# Import required libraries\n",
    "import pandas as pd\n",
    "import numpy as np\n",
    "from sklearn import preprocessing\n",
    "from factor_analyzer import FactorAnalyzer\n",
    "import matplotlib.pyplot as plt\n",
    "from functions import *"
   ]
  },
  {
   "cell_type": "markdown",
   "metadata": {},
   "source": [
    "## Chargement et nettoyage de donnée"
   ]
  },
  {
   "cell_type": "code",
   "execution_count": 2,
   "metadata": {},
   "outputs": [],
   "source": [
    "data = pd.read_csv('my_courses.csv', decimal='.',  index_col=0 )"
   ]
  },
  {
   "cell_type": "code",
   "execution_count": 3,
   "metadata": {},
   "outputs": [],
   "source": [
    "data_afc = data[\n",
    "    [\"inscription\",\"progression\",\"duree\",\"difficulte\",\"nbChapitres\",\"nbEvaluations\",\"idCours\"]\n",
    "]"
   ]
  },
  {
   "cell_type": "markdown",
   "metadata": {},
   "source": [
    "## la préparation des données pour l'AFC"
   ]
  },
  {
   "cell_type": "code",
   "execution_count": 4,
   "metadata": {},
   "outputs": [],
   "source": [
    "# Il est fréquent de remplacer les valeurs inconnues par la moyenne de la variable\n",
    "data_afc = data_afc.fillna( data_afc.mean() )"
   ]
  },
  {
   "cell_type": "code",
   "execution_count": 5,
   "metadata": {},
   "outputs": [
    {
     "data": {
      "text/html": [
       "<div>\n",
       "<style scoped>\n",
       "    .dataframe tbody tr th:only-of-type {\n",
       "        vertical-align: middle;\n",
       "    }\n",
       "\n",
       "    .dataframe tbody tr th {\n",
       "        vertical-align: top;\n",
       "    }\n",
       "\n",
       "    .dataframe thead th {\n",
       "        text-align: right;\n",
       "    }\n",
       "</style>\n",
       "<table border=\"1\" class=\"dataframe\">\n",
       "  <thead>\n",
       "    <tr style=\"text-align: right;\">\n",
       "      <th></th>\n",
       "      <th>inscription</th>\n",
       "      <th>progression</th>\n",
       "      <th>duree</th>\n",
       "      <th>difficulte</th>\n",
       "      <th>nbChapitres</th>\n",
       "      <th>nbEvaluations</th>\n",
       "      <th>idCours</th>\n",
       "    </tr>\n",
       "  </thead>\n",
       "  <tbody>\n",
       "    <tr>\n",
       "      <th>count</th>\n",
       "      <td>53.000000</td>\n",
       "      <td>53.000000</td>\n",
       "      <td>53.000000</td>\n",
       "      <td>53.000000</td>\n",
       "      <td>53.000000</td>\n",
       "      <td>53.000000</td>\n",
       "      <td>5.300000e+01</td>\n",
       "    </tr>\n",
       "    <tr>\n",
       "      <th>mean</th>\n",
       "      <td>522.211538</td>\n",
       "      <td>45.673077</td>\n",
       "      <td>14.769231</td>\n",
       "      <td>1.673077</td>\n",
       "      <td>16.538462</td>\n",
       "      <td>2.269231</td>\n",
       "      <td>3.878842e+06</td>\n",
       "    </tr>\n",
       "    <tr>\n",
       "      <th>std</th>\n",
       "      <td>308.142034</td>\n",
       "      <td>39.913233</td>\n",
       "      <td>11.454954</td>\n",
       "      <td>0.642146</td>\n",
       "      <td>10.221511</td>\n",
       "      <td>1.331792</td>\n",
       "      <td>1.688720e+06</td>\n",
       "    </tr>\n",
       "    <tr>\n",
       "      <th>min</th>\n",
       "      <td>0.000000</td>\n",
       "      <td>0.000000</td>\n",
       "      <td>1.000000</td>\n",
       "      <td>1.000000</td>\n",
       "      <td>0.000000</td>\n",
       "      <td>0.000000</td>\n",
       "      <td>1.998000e+04</td>\n",
       "    </tr>\n",
       "    <tr>\n",
       "      <th>25%</th>\n",
       "      <td>346.000000</td>\n",
       "      <td>9.000000</td>\n",
       "      <td>8.000000</td>\n",
       "      <td>1.000000</td>\n",
       "      <td>10.000000</td>\n",
       "      <td>1.000000</td>\n",
       "      <td>3.013856e+06</td>\n",
       "    </tr>\n",
       "    <tr>\n",
       "      <th>50%</th>\n",
       "      <td>483.000000</td>\n",
       "      <td>28.000000</td>\n",
       "      <td>10.000000</td>\n",
       "      <td>2.000000</td>\n",
       "      <td>15.000000</td>\n",
       "      <td>2.000000</td>\n",
       "      <td>4.297166e+06</td>\n",
       "    </tr>\n",
       "    <tr>\n",
       "      <th>75%</th>\n",
       "      <td>727.000000</td>\n",
       "      <td>100.000000</td>\n",
       "      <td>20.000000</td>\n",
       "      <td>2.000000</td>\n",
       "      <td>20.000000</td>\n",
       "      <td>3.000000</td>\n",
       "      <td>4.568596e+06</td>\n",
       "    </tr>\n",
       "    <tr>\n",
       "      <th>max</th>\n",
       "      <td>1288.000000</td>\n",
       "      <td>100.000000</td>\n",
       "      <td>50.000000</td>\n",
       "      <td>3.000000</td>\n",
       "      <td>51.000000</td>\n",
       "      <td>5.000000</td>\n",
       "      <td>6.692406e+06</td>\n",
       "    </tr>\n",
       "  </tbody>\n",
       "</table>\n",
       "</div>"
      ],
      "text/plain": [
       "       inscription  progression      duree  difficulte  nbChapitres  \\\n",
       "count    53.000000    53.000000  53.000000   53.000000    53.000000   \n",
       "mean    522.211538    45.673077  14.769231    1.673077    16.538462   \n",
       "std     308.142034    39.913233  11.454954    0.642146    10.221511   \n",
       "min       0.000000     0.000000   1.000000    1.000000     0.000000   \n",
       "25%     346.000000     9.000000   8.000000    1.000000    10.000000   \n",
       "50%     483.000000    28.000000  10.000000    2.000000    15.000000   \n",
       "75%     727.000000   100.000000  20.000000    2.000000    20.000000   \n",
       "max    1288.000000   100.000000  50.000000    3.000000    51.000000   \n",
       "\n",
       "       nbEvaluations       idCours  \n",
       "count      53.000000  5.300000e+01  \n",
       "mean        2.269231  3.878842e+06  \n",
       "std         1.331792  1.688720e+06  \n",
       "min         0.000000  1.998000e+04  \n",
       "25%         1.000000  3.013856e+06  \n",
       "50%         2.000000  4.297166e+06  \n",
       "75%         3.000000  4.568596e+06  \n",
       "max         5.000000  6.692406e+06  "
      ]
     },
     "execution_count": 5,
     "metadata": {},
     "output_type": "execute_result"
    }
   ],
   "source": [
    "data_afc.describe()"
   ]
  },
  {
   "cell_type": "code",
   "execution_count": 6,
   "metadata": {},
   "outputs": [],
   "source": [
    "X = data_afc.iloc[:, 1:]\n",
    "# ou data.index pour avoir les intitulés\n",
    "features = data.columns\n",
    "names = data[\"idCours\"] "
   ]
  },
  {
   "cell_type": "code",
   "execution_count": 7,
   "metadata": {},
   "outputs": [],
   "source": [
    "# Suppression des lignes de valeurs manquantes\n",
    "data_afc.dropna(inplace=True)"
   ]
  },
  {
   "cell_type": "code",
   "execution_count": 8,
   "metadata": {},
   "outputs": [
    {
     "data": {
      "text/plain": [
       "inscription      3.081420e+02\n",
       "progression      3.991323e+01\n",
       "duree            1.145495e+01\n",
       "difficulte       6.421465e-01\n",
       "nbChapitres      1.022151e+01\n",
       "nbEvaluations    1.331792e+00\n",
       "idCours          1.688720e+06\n",
       "dtype: float64"
      ]
     },
     "execution_count": 8,
     "metadata": {},
     "output_type": "execute_result"
    }
   ],
   "source": [
    "data_afc.std()"
   ]
  },
  {
   "cell_type": "code",
   "execution_count": 9,
   "metadata": {},
   "outputs": [
    {
     "name": "stdout",
     "output_type": "stream",
     "text": [
      "<class 'pandas.core.frame.DataFrame'>\n",
      "Index: 53 entries, Réalisez_une_analyse_exploratoire_de_données to Créez_votre_première_application_connectée_en_C\n",
      "Data columns (total 7 columns):\n",
      " #   Column         Non-Null Count  Dtype  \n",
      "---  ------         --------------  -----  \n",
      " 0   inscription    53 non-null     float64\n",
      " 1   progression    53 non-null     float64\n",
      " 2   duree          53 non-null     float64\n",
      " 3   difficulte     53 non-null     float64\n",
      " 4   nbChapitres    53 non-null     float64\n",
      " 5   nbEvaluations  53 non-null     float64\n",
      " 6   idCours        53 non-null     float64\n",
      "dtypes: float64(7)\n",
      "memory usage: 3.3+ KB\n"
     ]
    }
   ],
   "source": [
    "data_afc.info()"
   ]
  },
  {
   "cell_type": "markdown",
   "metadata": {},
   "source": [
    "## Centrage et Réduction"
   ]
  },
  {
   "cell_type": "code",
   "execution_count": 10,
   "metadata": {},
   "outputs": [],
   "source": [
    "std_scale = preprocessing.StandardScaler().fit(X)\n",
    "X_scaled = std_scale.transform(X)"
   ]
  },
  {
   "cell_type": "markdown",
   "metadata": {},
   "source": [
    "## Test d'adéquation\n",
    "\n",
    "Avant d'effectuer une analyse factorielle, nous devons évaluer la **«factorabilité»** de notre ensemble de données. La **factorabilité** signifie «pouvons-nous trouver les facteurs dans l'ensemble de données?». Il existe deux méthodes pour vérifier la factorabilité ou l'adéquation de l'échantillonnage:\n",
    "* Test de Bartlett \n",
    "* Test de Kaiser-Meyer-Olkin\n",
    "### Test de Bartlett \n",
    "Le test de sphéricité de Bartlett vérifie si les variables observées sont intercorrélées ou non en utilisant la matrice de corrélation observée avec la matrice d'identité. Si le test est statistiquement insignifiant, nous ne devons pas recourir à une analyse factorielle."
   ]
  },
  {
   "cell_type": "code",
   "execution_count": 11,
   "metadata": {},
   "outputs": [
    {
     "data": {
      "text/plain": [
       "(105.28603826594045, 5.662126881857858e-16)"
      ]
     },
     "execution_count": 11,
     "metadata": {},
     "output_type": "execute_result"
    }
   ],
   "source": [
    "from factor_analyzer.factor_analyzer import calculate_bartlett_sphericity\n",
    "chi_square_value,p_value=calculate_bartlett_sphericity(X)\n",
    "chi_square_value, p_value"
   ]
  },
  {
   "cell_type": "markdown",
   "metadata": {},
   "source": [
    "Dans ce test de Bartlett, la valeur p est sensiblement égale à 0. Le test était statistiquement significatif, indiquant que la matrice de corrélation observée n’est pas une matrice d’identité on peut le vérifier maintenant."
   ]
  },
  {
   "cell_type": "markdown",
   "metadata": {},
   "source": [
    "## Matrice de correlation"
   ]
  },
  {
   "cell_type": "code",
   "execution_count": 12,
   "metadata": {},
   "outputs": [
    {
     "data": {
      "text/html": [
       "<div>\n",
       "<style scoped>\n",
       "    .dataframe tbody tr th:only-of-type {\n",
       "        vertical-align: middle;\n",
       "    }\n",
       "\n",
       "    .dataframe tbody tr th {\n",
       "        vertical-align: top;\n",
       "    }\n",
       "\n",
       "    .dataframe thead th {\n",
       "        text-align: right;\n",
       "    }\n",
       "</style>\n",
       "<table border=\"1\" class=\"dataframe\">\n",
       "  <thead>\n",
       "    <tr style=\"text-align: right;\">\n",
       "      <th></th>\n",
       "      <th>inscription</th>\n",
       "      <th>progression</th>\n",
       "      <th>duree</th>\n",
       "      <th>difficulte</th>\n",
       "      <th>nbChapitres</th>\n",
       "      <th>nbEvaluations</th>\n",
       "      <th>idCours</th>\n",
       "    </tr>\n",
       "  </thead>\n",
       "  <tbody>\n",
       "    <tr>\n",
       "      <th>inscription</th>\n",
       "      <td>1.000000</td>\n",
       "      <td>0.290442</td>\n",
       "      <td>0.339338</td>\n",
       "      <td>0.074504</td>\n",
       "      <td>0.257902</td>\n",
       "      <td>0.062045</td>\n",
       "      <td>-0.408419</td>\n",
       "    </tr>\n",
       "    <tr>\n",
       "      <th>progression</th>\n",
       "      <td>0.290442</td>\n",
       "      <td>1.000000</td>\n",
       "      <td>-0.028052</td>\n",
       "      <td>-0.139227</td>\n",
       "      <td>-0.059197</td>\n",
       "      <td>-0.043205</td>\n",
       "      <td>-0.187387</td>\n",
       "    </tr>\n",
       "    <tr>\n",
       "      <th>duree</th>\n",
       "      <td>0.339338</td>\n",
       "      <td>-0.028052</td>\n",
       "      <td>1.000000</td>\n",
       "      <td>0.591052</td>\n",
       "      <td>0.781054</td>\n",
       "      <td>0.118785</td>\n",
       "      <td>-0.530187</td>\n",
       "    </tr>\n",
       "    <tr>\n",
       "      <th>difficulte</th>\n",
       "      <td>0.074504</td>\n",
       "      <td>-0.139227</td>\n",
       "      <td>0.591052</td>\n",
       "      <td>1.000000</td>\n",
       "      <td>0.437000</td>\n",
       "      <td>0.012973</td>\n",
       "      <td>-0.241362</td>\n",
       "    </tr>\n",
       "    <tr>\n",
       "      <th>nbChapitres</th>\n",
       "      <td>0.257902</td>\n",
       "      <td>-0.059197</td>\n",
       "      <td>0.781054</td>\n",
       "      <td>0.437000</td>\n",
       "      <td>1.000000</td>\n",
       "      <td>0.276126</td>\n",
       "      <td>-0.547328</td>\n",
       "    </tr>\n",
       "    <tr>\n",
       "      <th>nbEvaluations</th>\n",
       "      <td>0.062045</td>\n",
       "      <td>-0.043205</td>\n",
       "      <td>0.118785</td>\n",
       "      <td>0.012973</td>\n",
       "      <td>0.276126</td>\n",
       "      <td>1.000000</td>\n",
       "      <td>0.031165</td>\n",
       "    </tr>\n",
       "    <tr>\n",
       "      <th>idCours</th>\n",
       "      <td>-0.408419</td>\n",
       "      <td>-0.187387</td>\n",
       "      <td>-0.530187</td>\n",
       "      <td>-0.241362</td>\n",
       "      <td>-0.547328</td>\n",
       "      <td>0.031165</td>\n",
       "      <td>1.000000</td>\n",
       "    </tr>\n",
       "  </tbody>\n",
       "</table>\n",
       "</div>"
      ],
      "text/plain": [
       "               inscription  progression     duree  difficulte  nbChapitres  \\\n",
       "inscription       1.000000     0.290442  0.339338    0.074504     0.257902   \n",
       "progression       0.290442     1.000000 -0.028052   -0.139227    -0.059197   \n",
       "duree             0.339338    -0.028052  1.000000    0.591052     0.781054   \n",
       "difficulte        0.074504    -0.139227  0.591052    1.000000     0.437000   \n",
       "nbChapitres       0.257902    -0.059197  0.781054    0.437000     1.000000   \n",
       "nbEvaluations     0.062045    -0.043205  0.118785    0.012973     0.276126   \n",
       "idCours          -0.408419    -0.187387 -0.530187   -0.241362    -0.547328   \n",
       "\n",
       "               nbEvaluations   idCours  \n",
       "inscription         0.062045 -0.408419  \n",
       "progression        -0.043205 -0.187387  \n",
       "duree               0.118785 -0.530187  \n",
       "difficulte          0.012973 -0.241362  \n",
       "nbChapitres         0.276126 -0.547328  \n",
       "nbEvaluations       1.000000  0.031165  \n",
       "idCours             0.031165  1.000000  "
      ]
     },
     "execution_count": 12,
     "metadata": {},
     "output_type": "execute_result"
    }
   ],
   "source": [
    "data_afc.corr()"
   ]
  },
  {
   "cell_type": "markdown",
   "metadata": {},
   "source": [
    "## Test de Kaiser-Meyer-Olkin (KMO)"
   ]
  },
  {
   "cell_type": "markdown",
   "metadata": {},
   "source": [
    "mesure la pertinence des données pour l'analyse factorielle. Il détermine l'adéquation pour chaque variable observée et pour le modèle complet. KMO estime la proportion de variance parmi toutes les variables observées. Une proportion plus faible est plus adaptée à l'analyse factorielle Les valeurs de KMO sont comprises entre 0 et 1. Une valeur de KMO inférieure à 0,6 est considérée comme inadéquate."
   ]
  },
  {
   "cell_type": "code",
   "execution_count": 13,
   "metadata": {},
   "outputs": [
    {
     "data": {
      "text/plain": [
       "array([0.68488331, 0.55286708, 0.66692669, 0.71680752, 0.65854926,\n",
       "       0.33753609, 0.7555306 ])"
      ]
     },
     "execution_count": 13,
     "metadata": {},
     "output_type": "execute_result"
    }
   ],
   "source": [
    "from factor_analyzer.factor_analyzer import calculate_kmo\n",
    "kmo_all,kmo_model=calculate_kmo(data_afc)\n",
    "kmo_all"
   ]
  },
  {
   "cell_type": "code",
   "execution_count": 14,
   "metadata": {},
   "outputs": [
    {
     "data": {
      "text/plain": [
       "0.6687606621794097"
      ]
     },
     "execution_count": 14,
     "metadata": {},
     "output_type": "execute_result"
    }
   ],
   "source": [
    "kmo_model"
   ]
  },
  {
   "cell_type": "markdown",
   "metadata": {},
   "source": [
    "#### Le KMO global pour nos données est de **0.67**, ce qui n'est mal ici. Cette valeur indique que nous pouvons poursuivre votre analyse factorielle planifiée."
   ]
  },
  {
   "cell_type": "markdown",
   "metadata": {},
   "source": [
    "## Choix du nombre de facteurs"
   ]
  },
  {
   "cell_type": "markdown",
   "metadata": {},
   "source": [
    "Pour choisir le nombre de facteurs, nous pouvons utiliser le **Kaiser criterion** et **scree plot**. Les deux sont basés sur des valeurs propres."
   ]
  },
  {
   "cell_type": "code",
   "execution_count": 15,
   "metadata": {},
   "outputs": [
    {
     "data": {
      "text/plain": [
       "array([2.62715241, 1.16907705, 1.01904334, 0.64229814, 0.36086515,\n",
       "       0.18156391])"
      ]
     },
     "execution_count": 15,
     "metadata": {},
     "output_type": "execute_result"
    }
   ],
   "source": [
    "# Créer un objet d'analyse factorielle et effectuer une analyse factorielle\n",
    "fa = FactorAnalyzer()\n",
    "fa = FactorAnalyzer()\n",
    "fa.fit(np.array(data_afc.iloc[:, 1:]))\n",
    "# Vérifier les valeurs propres\n",
    "eigen_values, vectors = fa.get_eigenvalues()\n",
    "eigen_values"
   ]
  },
  {
   "cell_type": "code",
   "execution_count": 16,
   "metadata": {},
   "outputs": [
    {
     "data": {
      "text/html": [
       "<div>\n",
       "<style scoped>\n",
       "    .dataframe tbody tr th:only-of-type {\n",
       "        vertical-align: middle;\n",
       "    }\n",
       "\n",
       "    .dataframe tbody tr th {\n",
       "        vertical-align: top;\n",
       "    }\n",
       "\n",
       "    .dataframe thead th {\n",
       "        text-align: right;\n",
       "    }\n",
       "</style>\n",
       "<table border=\"1\" class=\"dataframe\">\n",
       "  <thead>\n",
       "    <tr style=\"text-align: right;\">\n",
       "      <th></th>\n",
       "      <th>Valeurs propres</th>\n",
       "    </tr>\n",
       "  </thead>\n",
       "  <tbody>\n",
       "    <tr>\n",
       "      <th>0</th>\n",
       "      <td>2.627152</td>\n",
       "    </tr>\n",
       "    <tr>\n",
       "      <th>1</th>\n",
       "      <td>1.169077</td>\n",
       "    </tr>\n",
       "    <tr>\n",
       "      <th>2</th>\n",
       "      <td>1.019043</td>\n",
       "    </tr>\n",
       "    <tr>\n",
       "      <th>3</th>\n",
       "      <td>0.642298</td>\n",
       "    </tr>\n",
       "    <tr>\n",
       "      <th>4</th>\n",
       "      <td>0.360865</td>\n",
       "    </tr>\n",
       "    <tr>\n",
       "      <th>5</th>\n",
       "      <td>0.181564</td>\n",
       "    </tr>\n",
       "  </tbody>\n",
       "</table>\n",
       "</div>"
      ],
      "text/plain": [
       "   Valeurs propres\n",
       "0         2.627152\n",
       "1         1.169077\n",
       "2         1.019043\n",
       "3         0.642298\n",
       "4         0.360865\n",
       "5         0.181564"
      ]
     },
     "execution_count": 16,
     "metadata": {},
     "output_type": "execute_result"
    }
   ],
   "source": [
    "## Améliorons l'affichage\n",
    "valeur_propre = pd.DataFrame({'Valeurs propres':eigen_values})\n",
    "valeur_propre"
   ]
  },
  {
   "cell_type": "markdown",
   "metadata": {},
   "source": [
    "#### Ici, nous pouvons voir que pour 3 facteurs, les valeurs propres sont supérieures à un. Cela signifie que nous devons choisir seulement 3 facteurs (ou des variables non observées)."
   ]
  },
  {
   "cell_type": "code",
   "execution_count": 17,
   "metadata": {},
   "outputs": [
    {
     "data": {
      "image/png": "[encoded data removed]",
      "text/plain": [
       "<Figure size 432x288 with 1 Axes>"
      ]
     },
     "metadata": {
      "needs_background": "light"
     },
     "output_type": "display_data"
    }
   ],
   "source": [
    "# Create scree plot using matplotlib\n",
    "plt.scatter(range(1,data_afc.shape[1]), eigen_values)\n",
    "plt.plot(range(1,data_afc.shape[1]), eigen_values)\n",
    "plt.title('Tracé d\\'effondrement')\n",
    "plt.xlabel('Les facteurs')\n",
    "plt.ylabel('Valeur propre')\n",
    "plt.grid()\n",
    "plt.show()"
   ]
  },
  {
   "cell_type": "code",
   "execution_count": 18,
   "metadata": {},
   "outputs": [
    {
     "data": {
      "image/png": "[encoded data removed]",
      "text/plain": [
       "<Figure size 432x288 with 1 Axes>"
      ]
     },
     "metadata": {
      "needs_background": "light"
     },
     "output_type": "display_data"
    }
   ],
   "source": [
    "from functions import *\n",
    "def display_scree_plot(v):\n",
    "    scree = (v/600)*10000\n",
    "    plt.bar(np.arange(len(scree))+1, scree)\n",
    "    plt.plot(np.arange(len(scree))+1, scree.cumsum(),c=\"red\",marker='o')\n",
    "    plt.xlabel(\"rang de l'axe d'inertie\")\n",
    "    plt.ylabel(\"pourcentage d'inertie\")\n",
    "    plt.title(\"Eboulis des valeurs propres\")\n",
    "    plt.show(block=False)\n",
    "display_scree_plot(eigen_values)"
   ]
  },
  {
   "cell_type": "markdown",
   "metadata": {},
   "source": [
    "La méthode de **tracé en éboulis trace(scree plot)** une ligne droite pour chaque facteur et ses valeurs propres. Nombre de valeurs propres supérieur à un considéré comme le nombre de facteurs.\n",
    "\n",
    "Ici, nous pouvons voir que pour 5 facteurs, les valeurs propres sont supérieures à un. Cela signifie que nous devons choisir seulement 5 facteurs (ou des variables non observées)."
   ]
  },
  {
   "cell_type": "markdown",
   "metadata": {},
   "source": [
    "## Effectuons une analyse factorielle"
   ]
  },
  {
   "cell_type": "code",
   "execution_count": 19,
   "metadata": {},
   "outputs": [
    {
     "data": {
      "text/plain": [
       "FactorAnalyzer(rotation='varimax', rotation_kwargs={})"
      ]
     },
     "execution_count": 19,
     "metadata": {},
     "output_type": "execute_result"
    }
   ],
   "source": [
    "# Créer un objet d'analyse factorielle et effectuer une analyse factorielle\n",
    "fa = FactorAnalyzer()\n",
    "fa.set_params(n_factors=3, rotation=\"varimax\")"
   ]
  },
  {
   "cell_type": "code",
   "execution_count": 20,
   "metadata": {},
   "outputs": [
    {
     "data": {
      "text/plain": [
       "array([[ 0.22928479,  0.04913759,  0.59570035],\n",
       "       [-0.13760605, -0.02946831,  0.52843367],\n",
       "       [ 0.93593916,  0.05291487,  0.16203971],\n",
       "       [ 0.61504405, -0.03721217, -0.12173067],\n",
       "       [ 0.80492248,  0.21817184,  0.15750858],\n",
       "       [ 0.07239358,  0.99542025, -0.01546904],\n",
       "       [-0.52176389,  0.04963359, -0.49820028]])"
      ]
     },
     "execution_count": 20,
     "metadata": {},
     "output_type": "execute_result"
    }
   ],
   "source": [
    "fa.fit(data_afc)\n",
    "fa.loadings_"
   ]
  },
  {
   "cell_type": "code",
   "execution_count": 21,
   "metadata": {},
   "outputs": [
    {
     "data": {
      "text/plain": [
       "Index(['inscription', 'progression', 'moyenneDeClasse', 'duree', 'difficulte',\n",
       "       'nbChapitres', 'ratioQuizEvaluation', 'nbEvaluations',\n",
       "       'derniereMiseAJour', 'idCours'],\n",
       "      dtype='object')"
      ]
     },
     "execution_count": 21,
     "metadata": {},
     "output_type": "execute_result"
    }
   ],
   "source": [
    "fa.loadings_[0]\n",
    "features"
   ]
  },
  {
   "cell_type": "code",
   "execution_count": 22,
   "metadata": {},
   "outputs": [
    {
     "ename": "NameError",
     "evalue": "name 'display_circles2' is not defined",
     "output_type": "error",
     "traceback": [
      "\u001b[1;31m---------------------------------------------------------------------------\u001b[0m",
      "\u001b[1;31mNameError\u001b[0m                                 Traceback (most recent call last)",
      "\u001b[1;32m<ipython-input-22-9f397b4ae4c8>\u001b[0m in \u001b[0;36m<module>\u001b[1;34m\u001b[0m\n\u001b[0;32m      6\u001b[0m \u001b[1;33m\u001b[0m\u001b[0m\n\u001b[0;32m      7\u001b[0m \u001b[1;33m\u001b[0m\u001b[0m\n\u001b[1;32m----> 8\u001b[1;33m \u001b[0mdisplay_circles2\u001b[0m\u001b[1;33m(\u001b[0m\u001b[0mpcs\u001b[0m\u001b[1;33m,\u001b[0m \u001b[1;36m6\u001b[0m\u001b[1;33m,\u001b[0m \u001b[0mfa\u001b[0m\u001b[1;33m,\u001b[0m \u001b[1;33m[\u001b[0m\u001b[1;33m(\u001b[0m\u001b[1;36m0\u001b[0m\u001b[1;33m,\u001b[0m \u001b[1;36m1\u001b[0m\u001b[1;33m)\u001b[0m\u001b[1;33m,\u001b[0m\u001b[1;33m(\u001b[0m\u001b[1;36m2\u001b[0m\u001b[1;33m,\u001b[0m \u001b[1;36m3\u001b[0m\u001b[1;33m)\u001b[0m\u001b[1;33m,\u001b[0m\u001b[1;33m(\u001b[0m\u001b[1;36m4\u001b[0m\u001b[1;33m,\u001b[0m \u001b[1;36m5\u001b[0m\u001b[1;33m)\u001b[0m\u001b[1;33m]\u001b[0m\u001b[1;33m,\u001b[0m \u001b[0mlabels\u001b[0m \u001b[1;33m=\u001b[0m \u001b[0mnp\u001b[0m\u001b[1;33m.\u001b[0m\u001b[0marray\u001b[0m\u001b[1;33m(\u001b[0m\u001b[0mfeatures\u001b[0m\u001b[1;33m)\u001b[0m\u001b[1;33m)\u001b[0m\u001b[1;33m\u001b[0m\u001b[1;33m\u001b[0m\u001b[0m\n\u001b[0m",
      "\u001b[1;31mNameError\u001b[0m: name 'display_circles2' is not defined"
     ]
    }
   ],
   "source": [
    "from functions import *\n",
    "# Cercle des corrélations\n",
    "pcs = fa.loadings_\n",
    "pcs[[0,1, 2]].T\n",
    "\n",
    "\n",
    "\n",
    "display_circles2(pcs, 6, fa, [(0, 1),(2, 3),(4, 5)], labels = np.array(features))"
   ]
  },
  {
   "cell_type": "code",
   "execution_count": 23,
   "metadata": {},
   "outputs": [
    {
     "data": {
      "text/plain": [
       "Index(['inscription', 'progression', 'duree', 'difficulte', 'nbChapitres',\n",
       "       'nbEvaluations', 'idCours'],\n",
       "      dtype='object')"
      ]
     },
     "execution_count": 23,
     "metadata": {},
     "output_type": "execute_result"
    }
   ],
   "source": [
    "data_afc.columns"
   ]
  },
  {
   "cell_type": "code",
   "execution_count": 24,
   "metadata": {},
   "outputs": [],
   "source": [
    "colonnes=['inscription', 'progression', 'duree', 'difficulte',\n",
    "       'nbChapitres', 'nbEvaluations', 'derniereMiseAJour', 'idCours']"
   ]
  },
  {
   "cell_type": "code",
   "execution_count": 25,
   "metadata": {},
   "outputs": [],
   "source": [
    "interpretation=[\n",
    "    'On voit ici que les cours sont intéressants, mais très difficiles, cela s\\'explique par le fait que très peu d\\'étudiants arrivent à progrésser et en plus ça se voit sur la longueur des cours et le nombre de chapitre',\n",
    "    'Ici les cours ne sont pas du tout intéressant et ils sont faciles',\n",
    "    'Nous avons des meilleurs cours ici et formidables: plus d\\'inscris, plus de progression, durée plutôt moyenne, difficulté facile'\n",
    "]"
   ]
  },
  {
   "cell_type": "code",
   "execution_count": 26,
   "metadata": {},
   "outputs": [
    {
     "name": "stdout",
     "output_type": "stream",
     "text": [
      "Facteur1 \n",
      "inscription: 0.229\n",
      "progression: -0.138\n",
      "duree: 0.936\n",
      "difficulte: 0.615\n",
      "nbChapitres: 0.805\n",
      "nbEvaluations: 0.072\n",
      "derniereMiseAJour: -0.522\n",
      "    Sigification:\n",
      "        On voit ici que les cours sont intéressants, mais très difficiles, cela s'explique par le fait que très peu d'étudiants arrivent à progrésser et en plus ça se voit sur la longueur des cours et le nombre de chapitre\n",
      "  \n",
      "Facteur2 \n",
      "inscription: 0.049\n",
      "progression: -0.029\n",
      "duree: 0.053\n",
      "difficulte: -0.037\n",
      "nbChapitres: 0.218\n",
      "nbEvaluations: 0.995\n",
      "derniereMiseAJour: 0.05\n",
      "    Sigification:\n",
      "        Ici les cours ne sont pas du tout intéressant et ils sont faciles\n",
      "  \n",
      "Facteur3 \n",
      "inscription: 0.596\n",
      "progression: 0.528\n",
      "duree: 0.162\n",
      "difficulte: -0.122\n",
      "nbChapitres: 0.158\n",
      "nbEvaluations: -0.015\n",
      "derniereMiseAJour: -0.498\n",
      "    Sigification:\n",
      "        Nous avons des meilleurs cours ici et formidables: plus d'inscris, plus de progression, durée plutôt moyenne, difficulté facile\n",
      "  \n",
      "  \n",
      "  \n",
      "  \n",
      "  \n"
     ]
    }
   ],
   "source": [
    "\n",
    "for i, facteur in enumerate(fa.loadings_):\n",
    "    if i < 3:\n",
    "        print('Facteur{} '.format(i+1))\n",
    "    for j, v in enumerate(fa.loadings_[:]):\n",
    "        if i<3:\n",
    "            print('{}: {}'.format(colonnes[j], np.round(v[i]*1000)/1000))\n",
    "    if i < 3:\n",
    "        print('    Sigification:')\n",
    "        print('        '  + interpretation[i])\n",
    "    print('  ')"
   ]
  },
  {
   "cell_type": "code",
   "execution_count": 27,
   "metadata": {},
   "outputs": [
    {
     "data": {
      "text/plain": [
       "(array([2.25114684, 1.04839153, 0.94842804]),\n",
       " array([0.32159241, 0.14977022, 0.13548972]),\n",
       " array([0.32159241, 0.47136262, 0.60685234]))"
      ]
     },
     "execution_count": 27,
     "metadata": {},
     "output_type": "execute_result"
    }
   ],
   "source": [
    "fa.get_factor_variance()"
   ]
  },
  {
   "cell_type": "code",
   "execution_count": 28,
   "metadata": {},
   "outputs": [
    {
     "data": {
      "text/plain": [
       "array([[-0.09928921, -0.28885893],\n",
       "       [ 0.936317  , -0.06812874],\n",
       "       [ 0.58523777,  0.0827091 ],\n",
       "       [ 0.83688249, -0.11027842],\n",
       "       [ 0.18099905,  0.11538218],\n",
       "       [-0.52038935,  0.85197887]])"
      ]
     },
     "execution_count": 28,
     "metadata": {},
     "output_type": "execute_result"
    }
   ],
   "source": [
    "\n",
    "# Créer un objet d'analyse factorielle et effectuer une analyse factorielle\n",
    "fa2 = FactorAnalyzer()\n",
    "fa2.set_params(n_factors=2, rotation=\"varimax\")\n",
    "\n",
    "fa2.fit(data_afc.iloc[:, 1:])\n",
    "fa2.loadings_"
   ]
  },
  {
   "cell_type": "code",
   "execution_count": 29,
   "metadata": {},
   "outputs": [
    {
     "data": {
      "text/plain": [
       "(array([2.23298915, 0.84626417]),\n",
       " array([0.37216486, 0.14104403]),\n",
       " array([0.37216486, 0.51320889]))"
      ]
     },
     "execution_count": 29,
     "metadata": {},
     "output_type": "execute_result"
    }
   ],
   "source": [
    "fa2.get_factor_variance()"
   ]
  },
  {
   "cell_type": "code",
   "execution_count": 30,
   "metadata": {},
   "outputs": [
    {
     "name": "stdout",
     "output_type": "stream",
     "text": [
      "    \n",
      "inscription: -0.099\n",
      "progression: 0.936\n",
      "duree: 0.585\n",
      "difficulte: 0.837\n",
      "nbChapitres: 0.181\n",
      "    \n",
      "inscription: -0.289\n",
      "progression: -0.068\n",
      "duree: 0.083\n",
      "difficulte: -0.11\n",
      "nbChapitres: 0.115\n",
      "    \n",
      "    \n",
      "    \n",
      "    \n"
     ]
    }
   ],
   "source": [
    "for i, facteur in enumerate(fa2.loadings_):\n",
    "    print('    ')\n",
    "    for j, v in enumerate(fa2.loadings_[:-1]):\n",
    "        if i<2:\n",
    "            print('{}: {}'.format(colonnes[j], np.round(v[i]*1000)/1000))"
   ]
  },
  {
   "cell_type": "code",
   "execution_count": 31,
   "metadata": {},
   "outputs": [],
   "source": [
    "from mpl_toolkits import mplot3d"
   ]
  },
  {
   "cell_type": "code",
   "execution_count": 32,
   "metadata": {},
   "outputs": [
    {
     "data": {
      "text/plain": [
       "array([[ 0.22928479,  0.04913759,  0.59570035],\n",
       "       [-0.13760605, -0.02946831,  0.52843367],\n",
       "       [ 0.93593916,  0.05291487,  0.16203971],\n",
       "       [ 0.61504405, -0.03721217, -0.12173067],\n",
       "       [ 0.80492248,  0.21817184,  0.15750858],\n",
       "       [ 0.07239358,  0.99542025, -0.01546904],\n",
       "       [-0.52176389,  0.04963359, -0.49820028]])"
      ]
     },
     "execution_count": 32,
     "metadata": {},
     "output_type": "execute_result"
    }
   ],
   "source": [
    "fa.loadings_"
   ]
  },
  {
   "cell_type": "code",
   "execution_count": 33,
   "metadata": {},
   "outputs": [
    {
     "data": {
      "text/plain": [
       "[0.22928479241041064,\n",
       " -0.13760605292069555,\n",
       " 0.9359391649772936,\n",
       " 0.6150440535557938,\n",
       " 0.8049224821286349,\n",
       " 0.07239357880542305,\n",
       " -0.5217638865069657]"
      ]
     },
     "execution_count": 33,
     "metadata": {},
     "output_type": "execute_result"
    }
   ],
   "source": [
    "coef_d1 =[]\n",
    "coef_d2 =[]\n",
    "coef_d3 =[]\n",
    "for i in fa.loadings_:\n",
    "    coef_d1.append(i[0])\n",
    "    coef_d2.append(i[1])\n",
    "    coef_d3.append(i[2])\n",
    "    \n",
    "coef_d1"
   ]
  },
  {
   "cell_type": "code",
   "execution_count": 34,
   "metadata": {},
   "outputs": [
    {
     "data": {
      "application/javascript": [
       "/* Put everything inside the global mpl namespace */\n",
       "/* global mpl */\n",
       "window.mpl = {};\n",
       "\n",
       "mpl.get_websocket_type = function () {\n",
       "    if (typeof WebSocket !== 'undefined') {\n",
       "        return WebSocket;\n",
       "    } else if (typeof MozWebSocket !== 'undefined') {\n",
       "        return MozWebSocket;\n",
       "    } else {\n",
       "        alert(\n",
       "            'Your browser does not have WebSocket support. ' +\n",
       "                'Please try Chrome, Safari or Firefox ≥ 6. ' +\n",
       "                'Firefox 4 and 5 are also supported but you ' +\n",
       "                'have to enable WebSockets in about:config.'\n",
       "        );\n",
       "    }\n",
       "};\n",
       "\n",
       "mpl.figure = function (figure_id, websocket, ondownload, parent_element) {\n",
       "    this.id = figure_id;\n",
       "\n",
       "    this.ws = websocket;\n",
       "\n",
       "    this.supports_binary = this.ws.binaryType !== undefined;\n",
       "\n",
       "    if (!this.supports_binary) {\n",
       "        var warnings = document.getElementById('mpl-warnings');\n",
       "        if (warnings) {\n",
       "            warnings.style.display = 'block';\n",
       "            warnings.textContent =\n",
       "                'This browser does not support binary websocket messages. ' +\n",
       "                'Performance may be slow.';\n",
       "        }\n",
       "    }\n",
       "\n",
       "    this.imageObj = new Image();\n",
       "\n",
       "    this.context = undefined;\n",
       "    this.message = undefined;\n",
       "    this.canvas = undefined;\n",
       "    this.rubberband_canvas = undefined;\n",
       "    this.rubberband_context = undefined;\n",
       "    this.format_dropdown = undefined;\n",
       "\n",
       "    this.image_mode = 'full';\n",
       "\n",
       "    this.root = document.createElement('div');\n",
       "    this.root.setAttribute('style', 'display: inline-block');\n",
       "    this._root_extra_style(this.root);\n",
       "\n",
       "    parent_element.appendChild(this.root);\n",
       "\n",
       "    this._init_header(this);\n",
       "    this._init_canvas(this);\n",
       "    this._init_toolbar(this);\n",
       "\n",
       "    var fig = this;\n",
       "\n",
       "    this.waiting = false;\n",
       "\n",
       "    this.ws.onopen = function () {\n",
       "        fig.send_message('supports_binary', { value: fig.supports_binary });\n",
       "        fig.send_message('send_image_mode', {});\n",
       "        if (fig.ratio !== 1) {\n",
       "            fig.send_message('set_dpi_ratio', { dpi_ratio: fig.ratio });\n",
       "        }\n",
       "        fig.send_message('refresh', {});\n",
       "    };\n",
       "\n",
       "    this.imageObj.onload = function () {\n",
       "        if (fig.image_mode === 'full') {\n",
       "            // Full images could contain transparency (where diff images\n",
       "            // almost always do), so we need to clear the canvas so that\n",
       "            // there is no ghosting.\n",
       "            fig.context.clearRect(0, 0, fig.canvas.width, fig.canvas.height);\n",
       "        }\n",
       "        fig.context.drawImage(fig.imageObj, 0, 0);\n",
       "    };\n",
       "\n",
       "    this.imageObj.onunload = function () {\n",
       "        fig.ws.close();\n",
       "    };\n",
       "\n",
       "    this.ws.onmessage = this._make_on_message_function(this);\n",
       "\n",
       "    this.ondownload = ondownload;\n",
       "};\n",
       "\n",
       "mpl.figure.prototype._init_header = function () {\n",
       "    var titlebar = document.createElement('div');\n",
       "    titlebar.classList =\n",
       "        'ui-dialog-titlebar ui-widget-header ui-corner-all ui-helper-clearfix';\n",
       "    var titletext = document.createElement('div');\n",
       "    titletext.classList = 'ui-dialog-title';\n",
       "    titletext.setAttribute(\n",
       "        'style',\n",
       "        'width: 100%; text-align: center; padding: 3px;'\n",
       "    );\n",
       "    titlebar.appendChild(titletext);\n",
       "    this.root.appendChild(titlebar);\n",
       "    this.header = titletext;\n",
       "};\n",
       "\n",
       "mpl.figure.prototype._canvas_extra_style = function (_canvas_div) {};\n",
       "\n",
       "mpl.figure.prototype._root_extra_style = function (_canvas_div) {};\n",
       "\n",
       "mpl.figure.prototype._init_canvas = function () {\n",
       "    var fig = this;\n",
       "\n",
       "    var canvas_div = (this.canvas_div = document.createElement('div'));\n",
       "    canvas_div.setAttribute(\n",
       "        'style',\n",
       "        'border: 1px solid #ddd;' +\n",
       "            'box-sizing: content-box;' +\n",
       "            'clear: both;' +\n",
       "            'min-height: 1px;' +\n",
       "            'min-width: 1px;' +\n",
       "            'outline: 0;' +\n",
       "            'overflow: hidden;' +\n",
       "            'position: relative;' +\n",
       "            'resize: both;'\n",
       "    );\n",
       "\n",
       "    function on_keyboard_event_closure(name) {\n",
       "        return function (event) {\n",
       "            return fig.key_event(event, name);\n",
       "        };\n",
       "    }\n",
       "\n",
       "    canvas_div.addEventListener(\n",
       "        'keydown',\n",
       "        on_keyboard_event_closure('key_press')\n",
       "    );\n",
       "    canvas_div.addEventListener(\n",
       "        'keyup',\n",
       "        on_keyboard_event_closure('key_release')\n",
       "    );\n",
       "\n",
       "    this._canvas_extra_style(canvas_div);\n",
       "    this.root.appendChild(canvas_div);\n",
       "\n",
       "    var canvas = (this.canvas = document.createElement('canvas'));\n",
       "    canvas.classList.add('mpl-canvas');\n",
       "    canvas.setAttribute('style', 'box-sizing: content-box;');\n",
       "\n",
       "    this.context = canvas.getContext('2d');\n",
       "\n",
       "    var backingStore =\n",
       "        this.context.backingStorePixelRatio ||\n",
       "        this.context.webkitBackingStorePixelRatio ||\n",
       "        this.context.mozBackingStorePixelRatio ||\n",
       "        this.context.msBackingStorePixelRatio ||\n",
       "        this.context.oBackingStorePixelRatio ||\n",
       "        this.context.backingStorePixelRatio ||\n",
       "        1;\n",
       "\n",
       "    this.ratio = (window.devicePixelRatio || 1) / backingStore;\n",
       "    if (this.ratio !== 1) {\n",
       "        fig.send_message('set_dpi_ratio', { dpi_ratio: this.ratio });\n",
       "    }\n",
       "\n",
       "    var rubberband_canvas = (this.rubberband_canvas = document.createElement(\n",
       "        'canvas'\n",
       "    ));\n",
       "    rubberband_canvas.setAttribute(\n",
       "        'style',\n",
       "        'box-sizing: content-box; position: absolute; left: 0; top: 0; z-index: 1;'\n",
       "    );\n",
       "\n",
       "    var resizeObserver = new ResizeObserver(function (entries) {\n",
       "        var nentries = entries.length;\n",
       "        for (var i = 0; i < nentries; i++) {\n",
       "            var entry = entries[i];\n",
       "            var width, height;\n",
       "            if (entry.contentBoxSize) {\n",
       "                if (entry.contentBoxSize instanceof Array) {\n",
       "                    // Chrome 84 implements new version of spec.\n",
       "                    width = entry.contentBoxSize[0].inlineSize;\n",
       "                    height = entry.contentBoxSize[0].blockSize;\n",
       "                } else {\n",
       "                    // Firefox implements old version of spec.\n",
       "                    width = entry.contentBoxSize.inlineSize;\n",
       "                    height = entry.contentBoxSize.blockSize;\n",
       "                }\n",
       "            } else {\n",
       "                // Chrome <84 implements even older version of spec.\n",
       "                width = entry.contentRect.width;\n",
       "                height = entry.contentRect.height;\n",
       "            }\n",
       "\n",
       "            // Keep the size of the canvas and rubber band canvas in sync with\n",
       "            // the canvas container.\n",
       "            if (entry.devicePixelContentBoxSize) {\n",
       "                // Chrome 84 implements new version of spec.\n",
       "                canvas.setAttribute(\n",
       "                    'width',\n",
       "                    entry.devicePixelContentBoxSize[0].inlineSize\n",
       "                );\n",
       "                canvas.setAttribute(\n",
       "                    'height',\n",
       "                    entry.devicePixelContentBoxSize[0].blockSize\n",
       "                );\n",
       "            } else {\n",
       "                canvas.setAttribute('width', width * fig.ratio);\n",
       "                canvas.setAttribute('height', height * fig.ratio);\n",
       "            }\n",
       "            canvas.setAttribute(\n",
       "                'style',\n",
       "                'width: ' + width + 'px; height: ' + height + 'px;'\n",
       "            );\n",
       "\n",
       "            rubberband_canvas.setAttribute('width', width);\n",
       "            rubberband_canvas.setAttribute('height', height);\n",
       "\n",
       "            // And update the size in Python. We ignore the initial 0/0 size\n",
       "            // that occurs as the element is placed into the DOM, which should\n",
       "            // otherwise not happen due to the minimum size styling.\n",
       "            if (width != 0 && height != 0) {\n",
       "                fig.request_resize(width, height);\n",
       "            }\n",
       "        }\n",
       "    });\n",
       "    resizeObserver.observe(canvas_div);\n",
       "\n",
       "    function on_mouse_event_closure(name) {\n",
       "        return function (event) {\n",
       "            return fig.mouse_event(event, name);\n",
       "        };\n",
       "    }\n",
       "\n",
       "    rubberband_canvas.addEventListener(\n",
       "        'mousedown',\n",
       "        on_mouse_event_closure('button_press')\n",
       "    );\n",
       "    rubberband_canvas.addEventListener(\n",
       "        'mouseup',\n",
       "        on_mouse_event_closure('button_release')\n",
       "    );\n",
       "    // Throttle sequential mouse events to 1 every 20ms.\n",
       "    rubberband_canvas.addEventListener(\n",
       "        'mousemove',\n",
       "        on_mouse_event_closure('motion_notify')\n",
       "    );\n",
       "\n",
       "    rubberband_canvas.addEventListener(\n",
       "        'mouseenter',\n",
       "        on_mouse_event_closure('figure_enter')\n",
       "    );\n",
       "    rubberband_canvas.addEventListener(\n",
       "        'mouseleave',\n",
       "        on_mouse_event_closure('figure_leave')\n",
       "    );\n",
       "\n",
       "    canvas_div.addEventListener('wheel', function (event) {\n",
       "        if (event.deltaY < 0) {\n",
       "            event.step = 1;\n",
       "        } else {\n",
       "            event.step = -1;\n",
       "        }\n",
       "        on_mouse_event_closure('scroll')(event);\n",
       "    });\n",
       "\n",
       "    canvas_div.appendChild(canvas);\n",
       "    canvas_div.appendChild(rubberband_canvas);\n",
       "\n",
       "    this.rubberband_context = rubberband_canvas.getContext('2d');\n",
       "    this.rubberband_context.strokeStyle = '#000000';\n",
       "\n",
       "    this._resize_canvas = function (width, height, forward) {\n",
       "        if (forward) {\n",
       "            canvas_div.style.width = width + 'px';\n",
       "            canvas_div.style.height = height + 'px';\n",
       "        }\n",
       "    };\n",
       "\n",
       "    // Disable right mouse context menu.\n",
       "    this.rubberband_canvas.addEventListener('contextmenu', function (_e) {\n",
       "        event.preventDefault();\n",
       "        return false;\n",
       "    });\n",
       "\n",
       "    function set_focus() {\n",
       "        canvas.focus();\n",
       "        canvas_div.focus();\n",
       "    }\n",
       "\n",
       "    window.setTimeout(set_focus, 100);\n",
       "};\n",
       "\n",
       "mpl.figure.prototype._init_toolbar = function () {\n",
       "    var fig = this;\n",
       "\n",
       "    var toolbar = document.createElement('div');\n",
       "    toolbar.classList = 'mpl-toolbar';\n",
       "    this.root.appendChild(toolbar);\n",
       "\n",
       "    function on_click_closure(name) {\n",
       "        return function (_event) {\n",
       "            return fig.toolbar_button_onclick(name);\n",
       "        };\n",
       "    }\n",
       "\n",
       "    function on_mouseover_closure(tooltip) {\n",
       "        return function (event) {\n",
       "            if (!event.currentTarget.disabled) {\n",
       "                return fig.toolbar_button_onmouseover(tooltip);\n",
       "            }\n",
       "        };\n",
       "    }\n",
       "\n",
       "    fig.buttons = {};\n",
       "    var buttonGroup = document.createElement('div');\n",
       "    buttonGroup.classList = 'mpl-button-group';\n",
       "    for (var toolbar_ind in mpl.toolbar_items) {\n",
       "        var name = mpl.toolbar_items[toolbar_ind][0];\n",
       "        var tooltip = mpl.toolbar_items[toolbar_ind][1];\n",
       "        var image = mpl.toolbar_items[toolbar_ind][2];\n",
       "        var method_name = mpl.toolbar_items[toolbar_ind][3];\n",
       "\n",
       "        if (!name) {\n",
       "            /* Instead of a spacer, we start a new button group. */\n",
       "            if (buttonGroup.hasChildNodes()) {\n",
       "                toolbar.appendChild(buttonGroup);\n",
       "            }\n",
       "            buttonGroup = document.createElement('div');\n",
       "            buttonGroup.classList = 'mpl-button-group';\n",
       "            continue;\n",
       "        }\n",
       "\n",
       "        var button = (fig.buttons[name] = document.createElement('button'));\n",
       "        button.classList = 'mpl-widget';\n",
       "        button.setAttribute('role', 'button');\n",
       "        button.setAttribute('aria-disabled', 'false');\n",
       "        button.addEventListener('click', on_click_closure(method_name));\n",
       "        button.addEventListener('mouseover', on_mouseover_closure(tooltip));\n",
       "\n",
       "        var icon_img = document.createElement('img');\n",
       "        icon_img.src = '_images/' + image + '.png';\n",
       "        icon_img.srcset = '_images/' + image + '_large.png 2x';\n",
       "        icon_img.alt = tooltip;\n",
       "        button.appendChild(icon_img);\n",
       "\n",
       "        buttonGroup.appendChild(button);\n",
       "    }\n",
       "\n",
       "    if (buttonGroup.hasChildNodes()) {\n",
       "        toolbar.appendChild(buttonGroup);\n",
       "    }\n",
       "\n",
       "    var fmt_picker = document.createElement('select');\n",
       "    fmt_picker.classList = 'mpl-widget';\n",
       "    toolbar.appendChild(fmt_picker);\n",
       "    this.format_dropdown = fmt_picker;\n",
       "\n",
       "    for (var ind in mpl.extensions) {\n",
       "        var fmt = mpl.extensions[ind];\n",
       "        var option = document.createElement('option');\n",
       "        option.selected = fmt === mpl.default_extension;\n",
       "        option.innerHTML = fmt;\n",
       "        fmt_picker.appendChild(option);\n",
       "    }\n",
       "\n",
       "    var status_bar = document.createElement('span');\n",
       "    status_bar.classList = 'mpl-message';\n",
       "    toolbar.appendChild(status_bar);\n",
       "    this.message = status_bar;\n",
       "};\n",
       "\n",
       "mpl.figure.prototype.request_resize = function (x_pixels, y_pixels) {\n",
       "    // Request matplotlib to resize the figure. Matplotlib will then trigger a resize in the client,\n",
       "    // which will in turn request a refresh of the image.\n",
       "    this.send_message('resize', { width: x_pixels, height: y_pixels });\n",
       "};\n",
       "\n",
       "mpl.figure.prototype.send_message = function (type, properties) {\n",
       "    properties['type'] = type;\n",
       "    properties['figure_id'] = this.id;\n",
       "    this.ws.send(JSON.stringify(properties));\n",
       "};\n",
       "\n",
       "mpl.figure.prototype.send_draw_message = function () {\n",
       "    if (!this.waiting) {\n",
       "        this.waiting = true;\n",
       "        this.ws.send(JSON.stringify({ type: 'draw', figure_id: this.id }));\n",
       "    }\n",
       "};\n",
       "\n",
       "mpl.figure.prototype.handle_save = function (fig, _msg) {\n",
       "    var format_dropdown = fig.format_dropdown;\n",
       "    var format = format_dropdown.options[format_dropdown.selectedIndex].value;\n",
       "    fig.ondownload(fig, format);\n",
       "};\n",
       "\n",
       "mpl.figure.prototype.handle_resize = function (fig, msg) {\n",
       "    var size = msg['size'];\n",
       "    if (size[0] !== fig.canvas.width || size[1] !== fig.canvas.height) {\n",
       "        fig._resize_canvas(size[0], size[1], msg['forward']);\n",
       "        fig.send_message('refresh', {});\n",
       "    }\n",
       "};\n",
       "\n",
       "mpl.figure.prototype.handle_rubberband = function (fig, msg) {\n",
       "    var x0 = msg['x0'] / fig.ratio;\n",
       "    var y0 = (fig.canvas.height - msg['y0']) / fig.ratio;\n",
       "    var x1 = msg['x1'] / fig.ratio;\n",
       "    var y1 = (fig.canvas.height - msg['y1']) / fig.ratio;\n",
       "    x0 = Math.floor(x0) + 0.5;\n",
       "    y0 = Math.floor(y0) + 0.5;\n",
       "    x1 = Math.floor(x1) + 0.5;\n",
       "    y1 = Math.floor(y1) + 0.5;\n",
       "    var min_x = Math.min(x0, x1);\n",
       "    var min_y = Math.min(y0, y1);\n",
       "    var width = Math.abs(x1 - x0);\n",
       "    var height = Math.abs(y1 - y0);\n",
       "\n",
       "    fig.rubberband_context.clearRect(\n",
       "        0,\n",
       "        0,\n",
       "        fig.canvas.width / fig.ratio,\n",
       "        fig.canvas.height / fig.ratio\n",
       "    );\n",
       "\n",
       "    fig.rubberband_context.strokeRect(min_x, min_y, width, height);\n",
       "};\n",
       "\n",
       "mpl.figure.prototype.handle_figure_label = function (fig, msg) {\n",
       "    // Updates the figure title.\n",
       "    fig.header.textContent = msg['label'];\n",
       "};\n",
       "\n",
       "mpl.figure.prototype.handle_cursor = function (fig, msg) {\n",
       "    var cursor = msg['cursor'];\n",
       "    switch (cursor) {\n",
       "        case 0:\n",
       "            cursor = 'pointer';\n",
       "            break;\n",
       "        case 1:\n",
       "            cursor = 'default';\n",
       "            break;\n",
       "        case 2:\n",
       "            cursor = 'crosshair';\n",
       "            break;\n",
       "        case 3:\n",
       "            cursor = 'move';\n",
       "            break;\n",
       "    }\n",
       "    fig.rubberband_canvas.style.cursor = cursor;\n",
       "};\n",
       "\n",
       "mpl.figure.prototype.handle_message = function (fig, msg) {\n",
       "    fig.message.textContent = msg['message'];\n",
       "};\n",
       "\n",
       "mpl.figure.prototype.handle_draw = function (fig, _msg) {\n",
       "    // Request the server to send over a new figure.\n",
       "    fig.send_draw_message();\n",
       "};\n",
       "\n",
       "mpl.figure.prototype.handle_image_mode = function (fig, msg) {\n",
       "    fig.image_mode = msg['mode'];\n",
       "};\n",
       "\n",
       "mpl.figure.prototype.handle_history_buttons = function (fig, msg) {\n",
       "    for (var key in msg) {\n",
       "        if (!(key in fig.buttons)) {\n",
       "            continue;\n",
       "        }\n",
       "        fig.buttons[key].disabled = !msg[key];\n",
       "        fig.buttons[key].setAttribute('aria-disabled', !msg[key]);\n",
       "    }\n",
       "};\n",
       "\n",
       "mpl.figure.prototype.handle_navigate_mode = function (fig, msg) {\n",
       "    if (msg['mode'] === 'PAN') {\n",
       "        fig.buttons['Pan'].classList.add('active');\n",
       "        fig.buttons['Zoom'].classList.remove('active');\n",
       "    } else if (msg['mode'] === 'ZOOM') {\n",
       "        fig.buttons['Pan'].classList.remove('active');\n",
       "        fig.buttons['Zoom'].classList.add('active');\n",
       "    } else {\n",
       "        fig.buttons['Pan'].classList.remove('active');\n",
       "        fig.buttons['Zoom'].classList.remove('active');\n",
       "    }\n",
       "};\n",
       "\n",
       "mpl.figure.prototype.updated_canvas_event = function () {\n",
       "    // Called whenever the canvas gets updated.\n",
       "    this.send_message('ack', {});\n",
       "};\n",
       "\n",
       "// A function to construct a web socket function for onmessage handling.\n",
       "// Called in the figure constructor.\n",
       "mpl.figure.prototype._make_on_message_function = function (fig) {\n",
       "    return function socket_on_message(evt) {\n",
       "        if (evt.data instanceof Blob) {\n",
       "            /* FIXME: We get \"Resource interpreted as Image but\n",
       "             * transferred with MIME type text/plain:\" errors on\n",
       "             * Chrome.  But how to set the MIME type?  It doesn't seem\n",
       "             * to be part of the websocket stream */\n",
       "            evt.data.type = 'image/png';\n",
       "\n",
       "            /* Free the memory for the previous frames */\n",
       "            if (fig.imageObj.src) {\n",
       "                (window.URL || window.webkitURL).revokeObjectURL(\n",
       "                    fig.imageObj.src\n",
       "                );\n",
       "            }\n",
       "\n",
       "            fig.imageObj.src = (window.URL || window.webkitURL).createObjectURL(\n",
       "                evt.data\n",
       "            );\n",
       "            fig.updated_canvas_event();\n",
       "            fig.waiting = false;\n",
       "            return;\n",
       "        } else if (\n",
       "            typeof evt.data === 'string' &&\n",
       "            evt.data.slice(0, 21) === 'data:image/png;base64'\n",
       "        ) {\n",
       "            fig.imageObj.src = evt.data;\n",
       "            fig.updated_canvas_event();\n",
       "            fig.waiting = false;\n",
       "            return;\n",
       "        }\n",
       "\n",
       "        var msg = JSON.parse(evt.data);\n",
       "        var msg_type = msg['type'];\n",
       "\n",
       "        // Call the  \"handle_{type}\" callback, which takes\n",
       "        // the figure and JSON message as its only arguments.\n",
       "        try {\n",
       "            var callback = fig['handle_' + msg_type];\n",
       "        } catch (e) {\n",
       "            console.log(\n",
       "                \"No handler for the '\" + msg_type + \"' message type: \",\n",
       "                msg\n",
       "            );\n",
       "            return;\n",
       "        }\n",
       "\n",
       "        if (callback) {\n",
       "            try {\n",
       "                // console.log(\"Handling '\" + msg_type + \"' message: \", msg);\n",
       "                callback(fig, msg);\n",
       "            } catch (e) {\n",
       "                console.log(\n",
       "                    \"Exception inside the 'handler_\" + msg_type + \"' callback:\",\n",
       "                    e,\n",
       "                    e.stack,\n",
       "                    msg\n",
       "                );\n",
       "            }\n",
       "        }\n",
       "    };\n",
       "};\n",
       "\n",
       "// from http://stackoverflow.com/questions/1114465/getting-mouse-location-in-canvas\n",
       "mpl.findpos = function (e) {\n",
       "    //this section is from http://www.quirksmode.org/js/events_properties.html\n",
       "    var targ;\n",
       "    if (!e) {\n",
       "        e = window.event;\n",
       "    }\n",
       "    if (e.target) {\n",
       "        targ = e.target;\n",
       "    } else if (e.srcElement) {\n",
       "        targ = e.srcElement;\n",
       "    }\n",
       "    if (targ.nodeType === 3) {\n",
       "        // defeat Safari bug\n",
       "        targ = targ.parentNode;\n",
       "    }\n",
       "\n",
       "    // pageX,Y are the mouse positions relative to the document\n",
       "    var boundingRect = targ.getBoundingClientRect();\n",
       "    var x = e.pageX - (boundingRect.left + document.body.scrollLeft);\n",
       "    var y = e.pageY - (boundingRect.top + document.body.scrollTop);\n",
       "\n",
       "    return { x: x, y: y };\n",
       "};\n",
       "\n",
       "/*\n",
       " * return a copy of an object with only non-object keys\n",
       " * we need this to avoid circular references\n",
       " * http://stackoverflow.com/a/24161582/3208463\n",
       " */\n",
       "function simpleKeys(original) {\n",
       "    return Object.keys(original).reduce(function (obj, key) {\n",
       "        if (typeof original[key] !== 'object') {\n",
       "            obj[key] = original[key];\n",
       "        }\n",
       "        return obj;\n",
       "    }, {});\n",
       "}\n",
       "\n",
       "mpl.figure.prototype.mouse_event = function (event, name) {\n",
       "    var canvas_pos = mpl.findpos(event);\n",
       "\n",
       "    if (name === 'button_press') {\n",
       "        this.canvas.focus();\n",
       "        this.canvas_div.focus();\n",
       "    }\n",
       "\n",
       "    var x = canvas_pos.x * this.ratio;\n",
       "    var y = canvas_pos.y * this.ratio;\n",
       "\n",
       "    this.send_message(name, {\n",
       "        x: x,\n",
       "        y: y,\n",
       "        button: event.button,\n",
       "        step: event.step,\n",
       "        guiEvent: simpleKeys(event),\n",
       "    });\n",
       "\n",
       "    /* This prevents the web browser from automatically changing to\n",
       "     * the text insertion cursor when the button is pressed.  We want\n",
       "     * to control all of the cursor setting manually through the\n",
       "     * 'cursor' event from matplotlib */\n",
       "    event.preventDefault();\n",
       "    return false;\n",
       "};\n",
       "\n",
       "mpl.figure.prototype._key_event_extra = function (_event, _name) {\n",
       "    // Handle any extra behaviour associated with a key event\n",
       "};\n",
       "\n",
       "mpl.figure.prototype.key_event = function (event, name) {\n",
       "    // Prevent repeat events\n",
       "    if (name === 'key_press') {\n",
       "        if (event.which === this._key) {\n",
       "            return;\n",
       "        } else {\n",
       "            this._key = event.which;\n",
       "        }\n",
       "    }\n",
       "    if (name === 'key_release') {\n",
       "        this._key = null;\n",
       "    }\n",
       "\n",
       "    var value = '';\n",
       "    if (event.ctrlKey && event.which !== 17) {\n",
       "        value += 'ctrl+';\n",
       "    }\n",
       "    if (event.altKey && event.which !== 18) {\n",
       "        value += 'alt+';\n",
       "    }\n",
       "    if (event.shiftKey && event.which !== 16) {\n",
       "        value += 'shift+';\n",
       "    }\n",
       "\n",
       "    value += 'k';\n",
       "    value += event.which.toString();\n",
       "\n",
       "    this._key_event_extra(event, name);\n",
       "\n",
       "    this.send_message(name, { key: value, guiEvent: simpleKeys(event) });\n",
       "    return false;\n",
       "};\n",
       "\n",
       "mpl.figure.prototype.toolbar_button_onclick = function (name) {\n",
       "    if (name === 'download') {\n",
       "        this.handle_save(this, null);\n",
       "    } else {\n",
       "        this.send_message('toolbar_button', { name: name });\n",
       "    }\n",
       "};\n",
       "\n",
       "mpl.figure.prototype.toolbar_button_onmouseover = function (tooltip) {\n",
       "    this.message.textContent = tooltip;\n",
       "};\n",
       "mpl.toolbar_items = [[\"Home\", \"Reset original view\", \"fa fa-home icon-home\", \"home\"], [\"Back\", \"Back to previous view\", \"fa fa-arrow-left icon-arrow-left\", \"back\"], [\"Forward\", \"Forward to next view\", \"fa fa-arrow-right icon-arrow-right\", \"forward\"], [\"\", \"\", \"\", \"\"], [\"Pan\", \"Left button pans, Right button zooms\\nx/y fixes axis, CTRL fixes aspect\", \"fa fa-arrows icon-move\", \"pan\"], [\"Zoom\", \"Zoom to rectangle\\nx/y fixes axis, CTRL fixes aspect\", \"fa fa-square-o icon-check-empty\", \"zoom\"], [\"\", \"\", \"\", \"\"], [\"Download\", \"Download plot\", \"fa fa-floppy-o icon-save\", \"download\"]];\n",
       "\n",
       "mpl.extensions = [\"eps\", \"jpeg\", \"pdf\", \"png\", \"ps\", \"raw\", \"svg\", \"tif\"];\n",
       "\n",
       "mpl.default_extension = \"png\";/* global mpl */\n",
       "\n",
       "var comm_websocket_adapter = function (comm) {\n",
       "    // Create a \"websocket\"-like object which calls the given IPython comm\n",
       "    // object with the appropriate methods. Currently this is a non binary\n",
       "    // socket, so there is still some room for performance tuning.\n",
       "    var ws = {};\n",
       "\n",
       "    ws.close = function () {\n",
       "        comm.close();\n",
       "    };\n",
       "    ws.send = function (m) {\n",
       "        //console.log('sending', m);\n",
       "        comm.send(m);\n",
       "    };\n",
       "    // Register the callback with on_msg.\n",
       "    comm.on_msg(function (msg) {\n",
       "        //console.log('receiving', msg['content']['data'], msg);\n",
       "        // Pass the mpl event to the overridden (by mpl) onmessage function.\n",
       "        ws.onmessage(msg['content']['data']);\n",
       "    });\n",
       "    return ws;\n",
       "};\n",
       "\n",
       "mpl.mpl_figure_comm = function (comm, msg) {\n",
       "    // This is the function which gets called when the mpl process\n",
       "    // starts-up an IPython Comm through the \"matplotlib\" channel.\n",
       "\n",
       "    var id = msg.content.data.id;\n",
       "    // Get hold of the div created by the display call when the Comm\n",
       "    // socket was opened in Python.\n",
       "    var element = document.getElementById(id);\n",
       "    var ws_proxy = comm_websocket_adapter(comm);\n",
       "\n",
       "    function ondownload(figure, _format) {\n",
       "        window.open(figure.canvas.toDataURL());\n",
       "    }\n",
       "\n",
       "    var fig = new mpl.figure(id, ws_proxy, ondownload, element);\n",
       "\n",
       "    // Call onopen now - mpl needs it, as it is assuming we've passed it a real\n",
       "    // web socket which is closed, not our websocket->open comm proxy.\n",
       "    ws_proxy.onopen();\n",
       "\n",
       "    fig.parent_element = element;\n",
       "    fig.cell_info = mpl.find_output_cell(\"<div id='\" + id + \"'></div>\");\n",
       "    if (!fig.cell_info) {\n",
       "        console.error('Failed to find cell for figure', id, fig);\n",
       "        return;\n",
       "    }\n",
       "    fig.cell_info[0].output_area.element.one(\n",
       "        'cleared',\n",
       "        { fig: fig },\n",
       "        fig._remove_fig_handler\n",
       "    );\n",
       "};\n",
       "\n",
       "mpl.figure.prototype.handle_close = function (fig, msg) {\n",
       "    var width = fig.canvas.width / fig.ratio;\n",
       "    fig.cell_info[0].output_area.element.off(\n",
       "        'cleared',\n",
       "        fig._remove_fig_handler\n",
       "    );\n",
       "\n",
       "    // Update the output cell to use the data from the current canvas.\n",
       "    fig.push_to_output();\n",
       "    var dataURL = fig.canvas.toDataURL();\n",
       "    // Re-enable the keyboard manager in IPython - without this line, in FF,\n",
       "    // the notebook keyboard shortcuts fail.\n",
       "    IPython.keyboard_manager.enable();\n",
       "    fig.parent_element.innerHTML =\n",
       "        '<img src=\"' + dataURL + '\" width=\"' + width + '\">';\n",
       "    fig.close_ws(fig, msg);\n",
       "};\n",
       "\n",
       "mpl.figure.prototype.close_ws = function (fig, msg) {\n",
       "    fig.send_message('closing', msg);\n",
       "    // fig.ws.close()\n",
       "};\n",
       "\n",
       "mpl.figure.prototype.push_to_output = function (_remove_interactive) {\n",
       "    // Turn the data on the canvas into data in the output cell.\n",
       "    var width = this.canvas.width / this.ratio;\n",
       "    var dataURL = this.canvas.toDataURL();\n",
       "    this.cell_info[1]['text/html'] =\n",
       "        '<img src=\"' + dataURL + '\" width=\"' + width + '\">';\n",
       "};\n",
       "\n",
       "mpl.figure.prototype.updated_canvas_event = function () {\n",
       "    // Tell IPython that the notebook contents must change.\n",
       "    IPython.notebook.set_dirty(true);\n",
       "    this.send_message('ack', {});\n",
       "    var fig = this;\n",
       "    // Wait a second, then push the new image to the DOM so\n",
       "    // that it is saved nicely (might be nice to debounce this).\n",
       "    setTimeout(function () {\n",
       "        fig.push_to_output();\n",
       "    }, 1000);\n",
       "};\n",
       "\n",
       "mpl.figure.prototype._init_toolbar = function () {\n",
       "    var fig = this;\n",
       "\n",
       "    var toolbar = document.createElement('div');\n",
       "    toolbar.classList = 'btn-toolbar';\n",
       "    this.root.appendChild(toolbar);\n",
       "\n",
       "    function on_click_closure(name) {\n",
       "        return function (_event) {\n",
       "            return fig.toolbar_button_onclick(name);\n",
       "        };\n",
       "    }\n",
       "\n",
       "    function on_mouseover_closure(tooltip) {\n",
       "        return function (event) {\n",
       "            if (!event.currentTarget.disabled) {\n",
       "                return fig.toolbar_button_onmouseover(tooltip);\n",
       "            }\n",
       "        };\n",
       "    }\n",
       "\n",
       "    fig.buttons = {};\n",
       "    var buttonGroup = document.createElement('div');\n",
       "    buttonGroup.classList = 'btn-group';\n",
       "    var button;\n",
       "    for (var toolbar_ind in mpl.toolbar_items) {\n",
       "        var name = mpl.toolbar_items[toolbar_ind][0];\n",
       "        var tooltip = mpl.toolbar_items[toolbar_ind][1];\n",
       "        var image = mpl.toolbar_items[toolbar_ind][2];\n",
       "        var method_name = mpl.toolbar_items[toolbar_ind][3];\n",
       "\n",
       "        if (!name) {\n",
       "            /* Instead of a spacer, we start a new button group. */\n",
       "            if (buttonGroup.hasChildNodes()) {\n",
       "                toolbar.appendChild(buttonGroup);\n",
       "            }\n",
       "            buttonGroup = document.createElement('div');\n",
       "            buttonGroup.classList = 'btn-group';\n",
       "            continue;\n",
       "        }\n",
       "\n",
       "        button = fig.buttons[name] = document.createElement('button');\n",
       "        button.classList = 'btn btn-default';\n",
       "        button.href = '#';\n",
       "        button.title = name;\n",
       "        button.innerHTML = '<i class=\"fa ' + image + ' fa-lg\"></i>';\n",
       "        button.addEventListener('click', on_click_closure(method_name));\n",
       "        button.addEventListener('mouseover', on_mouseover_closure(tooltip));\n",
       "        buttonGroup.appendChild(button);\n",
       "    }\n",
       "\n",
       "    if (buttonGroup.hasChildNodes()) {\n",
       "        toolbar.appendChild(buttonGroup);\n",
       "    }\n",
       "\n",
       "    // Add the status bar.\n",
       "    var status_bar = document.createElement('span');\n",
       "    status_bar.classList = 'mpl-message pull-right';\n",
       "    toolbar.appendChild(status_bar);\n",
       "    this.message = status_bar;\n",
       "\n",
       "    // Add the close button to the window.\n",
       "    var buttongrp = document.createElement('div');\n",
       "    buttongrp.classList = 'btn-group inline pull-right';\n",
       "    button = document.createElement('button');\n",
       "    button.classList = 'btn btn-mini btn-primary';\n",
       "    button.href = '#';\n",
       "    button.title = 'Stop Interaction';\n",
       "    button.innerHTML = '<i class=\"fa fa-power-off icon-remove icon-large\"></i>';\n",
       "    button.addEventListener('click', function (_evt) {\n",
       "        fig.handle_close(fig, {});\n",
       "    });\n",
       "    button.addEventListener(\n",
       "        'mouseover',\n",
       "        on_mouseover_closure('Stop Interaction')\n",
       "    );\n",
       "    buttongrp.appendChild(button);\n",
       "    var titlebar = this.root.querySelector('.ui-dialog-titlebar');\n",
       "    titlebar.insertBefore(buttongrp, titlebar.firstChild);\n",
       "};\n",
       "\n",
       "mpl.figure.prototype._remove_fig_handler = function (event) {\n",
       "    var fig = event.data.fig;\n",
       "    fig.close_ws(fig, {});\n",
       "};\n",
       "\n",
       "mpl.figure.prototype._root_extra_style = function (el) {\n",
       "    el.style.boxSizing = 'content-box'; // override notebook setting of border-box.\n",
       "};\n",
       "\n",
       "mpl.figure.prototype._canvas_extra_style = function (el) {\n",
       "    // this is important to make the div 'focusable\n",
       "    el.setAttribute('tabindex', 0);\n",
       "    // reach out to IPython and tell the keyboard manager to turn it's self\n",
       "    // off when our div gets focus\n",
       "\n",
       "    // location in version 3\n",
       "    if (IPython.notebook.keyboard_manager) {\n",
       "        IPython.notebook.keyboard_manager.register_events(el);\n",
       "    } else {\n",
       "        // location in version 2\n",
       "        IPython.keyboard_manager.register_events(el);\n",
       "    }\n",
       "};\n",
       "\n",
       "mpl.figure.prototype._key_event_extra = function (event, _name) {\n",
       "    var manager = IPython.notebook.keyboard_manager;\n",
       "    if (!manager) {\n",
       "        manager = IPython.keyboard_manager;\n",
       "    }\n",
       "\n",
       "    // Check for shift+enter\n",
       "    if (event.shiftKey && event.which === 13) {\n",
       "        this.canvas_div.blur();\n",
       "        // select the cell after this one\n",
       "        var index = IPython.notebook.find_cell_index(this.cell_info[0]);\n",
       "        IPython.notebook.select(index + 1);\n",
       "    }\n",
       "};\n",
       "\n",
       "mpl.figure.prototype.handle_save = function (fig, _msg) {\n",
       "    fig.ondownload(fig, null);\n",
       "};\n",
       "\n",
       "mpl.find_output_cell = function (html_output) {\n",
       "    // Return the cell and output element which can be found *uniquely* in the notebook.\n",
       "    // Note - this is a bit hacky, but it is done because the \"notebook_saving.Notebook\"\n",
       "    // IPython event is triggered only after the cells have been serialised, which for\n",
       "    // our purposes (turning an active figure into a static one), is too late.\n",
       "    var cells = IPython.notebook.get_cells();\n",
       "    var ncells = cells.length;\n",
       "    for (var i = 0; i < ncells; i++) {\n",
       "        var cell = cells[i];\n",
       "        if (cell.cell_type === 'code') {\n",
       "            for (var j = 0; j < cell.output_area.outputs.length; j++) {\n",
       "                var data = cell.output_area.outputs[j];\n",
       "                if (data.data) {\n",
       "                    // IPython >= 3 moved mimebundle to data attribute of output\n",
       "                    data = data.data;\n",
       "                }\n",
       "                if (data['text/html'] === html_output) {\n",
       "                    return [cell, data, j];\n",
       "                }\n",
       "            }\n",
       "        }\n",
       "    }\n",
       "};\n",
       "\n",
       "// Register the function which deals with the matplotlib target/channel.\n",
       "// The kernel may be null if the page has been refreshed.\n",
       "if (IPython.notebook.kernel !== null) {\n",
       "    IPython.notebook.kernel.comm_manager.register_target(\n",
       "        'matplotlib',\n",
       "        mpl.mpl_figure_comm\n",
       "    );\n",
       "}\n"
      ],
      "text/plain": [
       "<IPython.core.display.Javascript object>"
      ]
     },
     "metadata": {},
     "output_type": "display_data"
    },
    {
     "data": {
      "text/html": [
       "<img src=\"data:image/png;base64,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\" width=\"640\">"
      ],
      "text/plain": [
       "<IPython.core.display.HTML object>"
      ]
     },
     "metadata": {},
     "output_type": "display_data"
    },
    {
     "name": "stderr",
     "output_type": "stream",
     "text": [
      "No handles with labels found to put in legend.\n"
     ]
    },
    {
     "data": {
      "text/plain": [
       "<matplotlib.legend.Legend at 0x1786cf6cf40>"
      ]
     },
     "execution_count": 34,
     "metadata": {},
     "output_type": "execute_result"
    }
   ],
   "source": [
    "%matplotlib notebook\n",
    "\n",
    "\n",
    "fig = plt.figure()\n",
    "ax = plt.axes(projection='3d')\n",
    "ax.scatter3D(\n",
    "    coef_d1, \n",
    "    coef_d2, \n",
    "    coef_d3, s=400, c=coef_d1, marker='^');\n",
    "\n",
    "ax.legend()"
   ]
  },
  {
   "cell_type": "code",
   "execution_count": 35,
   "metadata": {},
   "outputs": [
    {
     "name": "stdout",
     "output_type": "stream",
     "text": [
      "Available matplotlib backends: ['tk', 'gtk', 'gtk3', 'wx', 'qt4', 'qt5', 'qt', 'osx', 'nbagg', 'notebook', 'agg', 'svg', 'pdf', 'ps', 'inline', 'ipympl', 'widget']\n"
     ]
    }
   ],
   "source": [
    "%matplotlib --list"
   ]
  },
  {
   "cell_type": "code",
   "execution_count": null,
   "metadata": {},
   "outputs": [],
   "source": []
  },
  {
   "cell_type": "code",
   "execution_count": null,
   "metadata": {},
   "outputs": [],
   "source": []
  }
 ],
 "metadata": {
  "kernelspec": {
   "display_name": "Python 3",
   "language": "python",
   "name": "python3"
  },
  "language_info": {
   "codemirror_mode": {
    "name": "ipython",
    "version": 3
   },
   "file_extension": ".py",
   "mimetype": "text/x-python",
   "name": "python",
   "nbconvert_exporter": "python",
   "pygments_lexer": "ipython3",
   "version": "3.8.5"
  }
 },
 "nbformat": 4,
 "nbformat_minor": 4
}
