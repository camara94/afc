{
 "cells": [
  {
   "cell_type": "markdown",
   "metadata": {},
   "source": [
    "## Analyse factorielle en python à l'aide du package factor_analyzer, sklearn et fanalysis\n",
    "Importer les bibliothèques requises"
   ]
  },
  {
   "cell_type": "markdown",
   "metadata": {},
   "source": [
    "## factor_analyzer "
   ]
  },
  {
   "cell_type": "code",
   "execution_count": 1,
   "metadata": {},
   "outputs": [],
   "source": [
    "# Import required libraries\n",
    "import pandas as pd\n",
    "from sklearn import preprocessing\n",
    "from factor_analyzer import FactorAnalyzer\n",
    "from fanalysis.ca import CA\n",
    "import numpy as np\n",
    "%matplotlib inline"
   ]
  },
  {
   "cell_type": "markdown",
   "metadata": {},
   "source": [
    "## Chargement et nettoyage de donnée"
   ]
  },
  {
   "cell_type": "code",
   "execution_count": 2,
   "metadata": {},
   "outputs": [
    {
     "data": {
      "text/html": [
       "<div>\n",
       "<style scoped>\n",
       "    .dataframe tbody tr th:only-of-type {\n",
       "        vertical-align: middle;\n",
       "    }\n",
       "\n",
       "    .dataframe tbody tr th {\n",
       "        vertical-align: top;\n",
       "    }\n",
       "\n",
       "    .dataframe thead th {\n",
       "        text-align: right;\n",
       "    }\n",
       "</style>\n",
       "<table border=\"1\" class=\"dataframe\">\n",
       "  <thead>\n",
       "    <tr style=\"text-align: right;\">\n",
       "      <th></th>\n",
       "      <th>Pays</th>\n",
       "      <th>Economie</th>\n",
       "      <th>Littérature</th>\n",
       "      <th>Medecine</th>\n",
       "      <th>Paix</th>\n",
       "      <th>Physique</th>\n",
       "      <th>Marge Colonne</th>\n",
       "    </tr>\n",
       "  </thead>\n",
       "  <tbody>\n",
       "    <tr>\n",
       "      <th>0</th>\n",
       "      <td>Allemagne</td>\n",
       "      <td>1</td>\n",
       "      <td>8</td>\n",
       "      <td>18</td>\n",
       "      <td>5</td>\n",
       "      <td>24</td>\n",
       "      <td>56</td>\n",
       "    </tr>\n",
       "    <tr>\n",
       "      <th>1</th>\n",
       "      <td>Canada</td>\n",
       "      <td>3</td>\n",
       "      <td>2</td>\n",
       "      <td>4</td>\n",
       "      <td>1</td>\n",
       "      <td>4</td>\n",
       "      <td>14</td>\n",
       "    </tr>\n",
       "    <tr>\n",
       "      <th>2</th>\n",
       "      <td>France</td>\n",
       "      <td>3</td>\n",
       "      <td>11</td>\n",
       "      <td>12</td>\n",
       "      <td>10</td>\n",
       "      <td>9</td>\n",
       "      <td>45</td>\n",
       "    </tr>\n",
       "    <tr>\n",
       "      <th>3</th>\n",
       "      <td>GB</td>\n",
       "      <td>6</td>\n",
       "      <td>7</td>\n",
       "      <td>26</td>\n",
       "      <td>11</td>\n",
       "      <td>20</td>\n",
       "      <td>70</td>\n",
       "    </tr>\n",
       "    <tr>\n",
       "      <th>4</th>\n",
       "      <td>Italie</td>\n",
       "      <td>1</td>\n",
       "      <td>6</td>\n",
       "      <td>5</td>\n",
       "      <td>1</td>\n",
       "      <td>5</td>\n",
       "      <td>18</td>\n",
       "    </tr>\n",
       "    <tr>\n",
       "      <th>5</th>\n",
       "      <td>Japon</td>\n",
       "      <td>0</td>\n",
       "      <td>2</td>\n",
       "      <td>3</td>\n",
       "      <td>1</td>\n",
       "      <td>11</td>\n",
       "      <td>17</td>\n",
       "    </tr>\n",
       "    <tr>\n",
       "      <th>6</th>\n",
       "      <td>Russie</td>\n",
       "      <td>3</td>\n",
       "      <td>5</td>\n",
       "      <td>2</td>\n",
       "      <td>3</td>\n",
       "      <td>10</td>\n",
       "      <td>23</td>\n",
       "    </tr>\n",
       "    <tr>\n",
       "      <th>7</th>\n",
       "      <td>USA</td>\n",
       "      <td>43</td>\n",
       "      <td>8</td>\n",
       "      <td>70</td>\n",
       "      <td>19</td>\n",
       "      <td>66</td>\n",
       "      <td>206</td>\n",
       "    </tr>\n",
       "    <tr>\n",
       "      <th>8</th>\n",
       "      <td>Marge Ligne</td>\n",
       "      <td>60</td>\n",
       "      <td>49</td>\n",
       "      <td>140</td>\n",
       "      <td>51</td>\n",
       "      <td>149</td>\n",
       "      <td>449</td>\n",
       "    </tr>\n",
       "  </tbody>\n",
       "</table>\n",
       "</div>"
      ],
      "text/plain": [
       "          Pays  Economie  Littérature  Medecine  Paix  Physique  Marge Colonne\n",
       "0    Allemagne         1            8        18     5        24             56\n",
       "1       Canada         3            2         4     1         4             14\n",
       "2       France         3           11        12    10         9             45\n",
       "3           GB         6            7        26    11        20             70\n",
       "4       Italie         1            6         5     1         5             18\n",
       "5        Japon         0            2         3     1        11             17\n",
       "6       Russie         3            5         2     3        10             23\n",
       "7          USA        43            8        70    19        66            206\n",
       "8  Marge Ligne        60           49       140    51       149            449"
      ]
     },
     "execution_count": 2,
     "metadata": {},
     "output_type": "execute_result"
    }
   ],
   "source": [
    "df = pd.read_excel(\"prixnobel.xlsx\")\n",
    "df"
   ]
  },
  {
   "cell_type": "markdown",
   "metadata": {},
   "source": [
    "## la préparation des données pour l'AFC"
   ]
  },
  {
   "cell_type": "code",
   "execution_count": 3,
   "metadata": {},
   "outputs": [],
   "source": [
    "# Il est fréquent de remplacer les valeurs inconnues par la moyenne de la variable\n",
    "data_afc = df.fillna( df.mean() )"
   ]
  },
  {
   "cell_type": "code",
   "execution_count": 4,
   "metadata": {},
   "outputs": [
    {
     "data": {
      "text/html": [
       "<div>\n",
       "<style scoped>\n",
       "    .dataframe tbody tr th:only-of-type {\n",
       "        vertical-align: middle;\n",
       "    }\n",
       "\n",
       "    .dataframe tbody tr th {\n",
       "        vertical-align: top;\n",
       "    }\n",
       "\n",
       "    .dataframe thead th {\n",
       "        text-align: right;\n",
       "    }\n",
       "</style>\n",
       "<table border=\"1\" class=\"dataframe\">\n",
       "  <thead>\n",
       "    <tr style=\"text-align: right;\">\n",
       "      <th></th>\n",
       "      <th>Pays</th>\n",
       "      <th>Economie</th>\n",
       "      <th>Littérature</th>\n",
       "      <th>Medecine</th>\n",
       "      <th>Paix</th>\n",
       "      <th>Physique</th>\n",
       "      <th>Marge Colonne</th>\n",
       "    </tr>\n",
       "  </thead>\n",
       "  <tbody>\n",
       "    <tr>\n",
       "      <th>0</th>\n",
       "      <td>Allemagne</td>\n",
       "      <td>1</td>\n",
       "      <td>8</td>\n",
       "      <td>18</td>\n",
       "      <td>5</td>\n",
       "      <td>24</td>\n",
       "      <td>56</td>\n",
       "    </tr>\n",
       "    <tr>\n",
       "      <th>1</th>\n",
       "      <td>Canada</td>\n",
       "      <td>3</td>\n",
       "      <td>2</td>\n",
       "      <td>4</td>\n",
       "      <td>1</td>\n",
       "      <td>4</td>\n",
       "      <td>14</td>\n",
       "    </tr>\n",
       "    <tr>\n",
       "      <th>2</th>\n",
       "      <td>France</td>\n",
       "      <td>3</td>\n",
       "      <td>11</td>\n",
       "      <td>12</td>\n",
       "      <td>10</td>\n",
       "      <td>9</td>\n",
       "      <td>45</td>\n",
       "    </tr>\n",
       "    <tr>\n",
       "      <th>3</th>\n",
       "      <td>GB</td>\n",
       "      <td>6</td>\n",
       "      <td>7</td>\n",
       "      <td>26</td>\n",
       "      <td>11</td>\n",
       "      <td>20</td>\n",
       "      <td>70</td>\n",
       "    </tr>\n",
       "    <tr>\n",
       "      <th>4</th>\n",
       "      <td>Italie</td>\n",
       "      <td>1</td>\n",
       "      <td>6</td>\n",
       "      <td>5</td>\n",
       "      <td>1</td>\n",
       "      <td>5</td>\n",
       "      <td>18</td>\n",
       "    </tr>\n",
       "  </tbody>\n",
       "</table>\n",
       "</div>"
      ],
      "text/plain": [
       "        Pays  Economie  Littérature  Medecine  Paix  Physique  Marge Colonne\n",
       "0  Allemagne         1            8        18     5        24             56\n",
       "1     Canada         3            2         4     1         4             14\n",
       "2     France         3           11        12    10         9             45\n",
       "3         GB         6            7        26    11        20             70\n",
       "4     Italie         1            6         5     1         5             18"
      ]
     },
     "execution_count": 4,
     "metadata": {},
     "output_type": "execute_result"
    }
   ],
   "source": [
    "data_afc.head()"
   ]
  },
  {
   "cell_type": "code",
   "execution_count": 5,
   "metadata": {},
   "outputs": [
    {
     "data": {
      "text/html": [
       "<div>\n",
       "<style scoped>\n",
       "    .dataframe tbody tr th:only-of-type {\n",
       "        vertical-align: middle;\n",
       "    }\n",
       "\n",
       "    .dataframe tbody tr th {\n",
       "        vertical-align: top;\n",
       "    }\n",
       "\n",
       "    .dataframe thead th {\n",
       "        text-align: right;\n",
       "    }\n",
       "</style>\n",
       "<table border=\"1\" class=\"dataframe\">\n",
       "  <thead>\n",
       "    <tr style=\"text-align: right;\">\n",
       "      <th></th>\n",
       "      <th>Economie</th>\n",
       "      <th>Littérature</th>\n",
       "      <th>Medecine</th>\n",
       "      <th>Paix</th>\n",
       "      <th>Physique</th>\n",
       "      <th>Marge Colonne</th>\n",
       "    </tr>\n",
       "  </thead>\n",
       "  <tbody>\n",
       "    <tr>\n",
       "      <th>count</th>\n",
       "      <td>9.000000</td>\n",
       "      <td>9.000000</td>\n",
       "      <td>9.000000</td>\n",
       "      <td>9.000000</td>\n",
       "      <td>9.000000</td>\n",
       "      <td>9.000000</td>\n",
       "    </tr>\n",
       "    <tr>\n",
       "      <th>mean</th>\n",
       "      <td>13.333333</td>\n",
       "      <td>10.888889</td>\n",
       "      <td>31.111111</td>\n",
       "      <td>11.333333</td>\n",
       "      <td>33.111111</td>\n",
       "      <td>99.777778</td>\n",
       "    </tr>\n",
       "    <tr>\n",
       "      <th>std</th>\n",
       "      <td>22.118996</td>\n",
       "      <td>14.581190</td>\n",
       "      <td>46.079943</td>\n",
       "      <td>16.062378</td>\n",
       "      <td>47.445876</td>\n",
       "      <td>143.977236</td>\n",
       "    </tr>\n",
       "    <tr>\n",
       "      <th>min</th>\n",
       "      <td>0.000000</td>\n",
       "      <td>2.000000</td>\n",
       "      <td>2.000000</td>\n",
       "      <td>1.000000</td>\n",
       "      <td>4.000000</td>\n",
       "      <td>14.000000</td>\n",
       "    </tr>\n",
       "    <tr>\n",
       "      <th>25%</th>\n",
       "      <td>1.000000</td>\n",
       "      <td>5.000000</td>\n",
       "      <td>4.000000</td>\n",
       "      <td>1.000000</td>\n",
       "      <td>9.000000</td>\n",
       "      <td>18.000000</td>\n",
       "    </tr>\n",
       "    <tr>\n",
       "      <th>50%</th>\n",
       "      <td>3.000000</td>\n",
       "      <td>7.000000</td>\n",
       "      <td>12.000000</td>\n",
       "      <td>5.000000</td>\n",
       "      <td>11.000000</td>\n",
       "      <td>45.000000</td>\n",
       "    </tr>\n",
       "    <tr>\n",
       "      <th>75%</th>\n",
       "      <td>6.000000</td>\n",
       "      <td>8.000000</td>\n",
       "      <td>26.000000</td>\n",
       "      <td>11.000000</td>\n",
       "      <td>24.000000</td>\n",
       "      <td>70.000000</td>\n",
       "    </tr>\n",
       "    <tr>\n",
       "      <th>max</th>\n",
       "      <td>60.000000</td>\n",
       "      <td>49.000000</td>\n",
       "      <td>140.000000</td>\n",
       "      <td>51.000000</td>\n",
       "      <td>149.000000</td>\n",
       "      <td>449.000000</td>\n",
       "    </tr>\n",
       "  </tbody>\n",
       "</table>\n",
       "</div>"
      ],
      "text/plain": [
       "        Economie  Littérature    Medecine       Paix    Physique  \\\n",
       "count   9.000000     9.000000    9.000000   9.000000    9.000000   \n",
       "mean   13.333333    10.888889   31.111111  11.333333   33.111111   \n",
       "std    22.118996    14.581190   46.079943  16.062378   47.445876   \n",
       "min     0.000000     2.000000    2.000000   1.000000    4.000000   \n",
       "25%     1.000000     5.000000    4.000000   1.000000    9.000000   \n",
       "50%     3.000000     7.000000   12.000000   5.000000   11.000000   \n",
       "75%     6.000000     8.000000   26.000000  11.000000   24.000000   \n",
       "max    60.000000    49.000000  140.000000  51.000000  149.000000   \n",
       "\n",
       "       Marge Colonne  \n",
       "count       9.000000  \n",
       "mean       99.777778  \n",
       "std       143.977236  \n",
       "min        14.000000  \n",
       "25%        18.000000  \n",
       "50%        45.000000  \n",
       "75%        70.000000  \n",
       "max       449.000000  "
      ]
     },
     "execution_count": 5,
     "metadata": {},
     "output_type": "execute_result"
    }
   ],
   "source": [
    "data_afc.describe()"
   ]
  },
  {
   "cell_type": "code",
   "execution_count": 6,
   "metadata": {},
   "outputs": [],
   "source": [
    "X = data_afc.iloc[:-1, 1:-1]\n",
    "# ou data.index pour avoir les intitulés\n",
    "features = df.columns\n",
    "names = df[\"Pays\"] "
   ]
  },
  {
   "cell_type": "code",
   "execution_count": 7,
   "metadata": {},
   "outputs": [
    {
     "data": {
      "text/html": [
       "<div>\n",
       "<style scoped>\n",
       "    .dataframe tbody tr th:only-of-type {\n",
       "        vertical-align: middle;\n",
       "    }\n",
       "\n",
       "    .dataframe tbody tr th {\n",
       "        vertical-align: top;\n",
       "    }\n",
       "\n",
       "    .dataframe thead th {\n",
       "        text-align: right;\n",
       "    }\n",
       "</style>\n",
       "<table border=\"1\" class=\"dataframe\">\n",
       "  <thead>\n",
       "    <tr style=\"text-align: right;\">\n",
       "      <th></th>\n",
       "      <th>Economie</th>\n",
       "      <th>Littérature</th>\n",
       "      <th>Medecine</th>\n",
       "      <th>Paix</th>\n",
       "      <th>Physique</th>\n",
       "    </tr>\n",
       "  </thead>\n",
       "  <tbody>\n",
       "    <tr>\n",
       "      <th>0</th>\n",
       "      <td>1</td>\n",
       "      <td>8</td>\n",
       "      <td>18</td>\n",
       "      <td>5</td>\n",
       "      <td>24</td>\n",
       "    </tr>\n",
       "    <tr>\n",
       "      <th>1</th>\n",
       "      <td>3</td>\n",
       "      <td>2</td>\n",
       "      <td>4</td>\n",
       "      <td>1</td>\n",
       "      <td>4</td>\n",
       "    </tr>\n",
       "    <tr>\n",
       "      <th>2</th>\n",
       "      <td>3</td>\n",
       "      <td>11</td>\n",
       "      <td>12</td>\n",
       "      <td>10</td>\n",
       "      <td>9</td>\n",
       "    </tr>\n",
       "    <tr>\n",
       "      <th>3</th>\n",
       "      <td>6</td>\n",
       "      <td>7</td>\n",
       "      <td>26</td>\n",
       "      <td>11</td>\n",
       "      <td>20</td>\n",
       "    </tr>\n",
       "    <tr>\n",
       "      <th>4</th>\n",
       "      <td>1</td>\n",
       "      <td>6</td>\n",
       "      <td>5</td>\n",
       "      <td>1</td>\n",
       "      <td>5</td>\n",
       "    </tr>\n",
       "    <tr>\n",
       "      <th>5</th>\n",
       "      <td>0</td>\n",
       "      <td>2</td>\n",
       "      <td>3</td>\n",
       "      <td>1</td>\n",
       "      <td>11</td>\n",
       "    </tr>\n",
       "    <tr>\n",
       "      <th>6</th>\n",
       "      <td>3</td>\n",
       "      <td>5</td>\n",
       "      <td>2</td>\n",
       "      <td>3</td>\n",
       "      <td>10</td>\n",
       "    </tr>\n",
       "    <tr>\n",
       "      <th>7</th>\n",
       "      <td>43</td>\n",
       "      <td>8</td>\n",
       "      <td>70</td>\n",
       "      <td>19</td>\n",
       "      <td>66</td>\n",
       "    </tr>\n",
       "  </tbody>\n",
       "</table>\n",
       "</div>"
      ],
      "text/plain": [
       "   Economie  Littérature  Medecine  Paix  Physique\n",
       "0         1            8        18     5        24\n",
       "1         3            2         4     1         4\n",
       "2         3           11        12    10         9\n",
       "3         6            7        26    11        20\n",
       "4         1            6         5     1         5\n",
       "5         0            2         3     1        11\n",
       "6         3            5         2     3        10\n",
       "7        43            8        70    19        66"
      ]
     },
     "execution_count": 7,
     "metadata": {},
     "output_type": "execute_result"
    }
   ],
   "source": [
    "X"
   ]
  },
  {
   "cell_type": "code",
   "execution_count": 8,
   "metadata": {},
   "outputs": [
    {
     "data": {
      "text/html": [
       "<div>\n",
       "<style scoped>\n",
       "    .dataframe tbody tr th:only-of-type {\n",
       "        vertical-align: middle;\n",
       "    }\n",
       "\n",
       "    .dataframe tbody tr th {\n",
       "        vertical-align: top;\n",
       "    }\n",
       "\n",
       "    .dataframe thead th {\n",
       "        text-align: right;\n",
       "    }\n",
       "</style>\n",
       "<table border=\"1\" class=\"dataframe\">\n",
       "  <thead>\n",
       "    <tr style=\"text-align: right;\">\n",
       "      <th></th>\n",
       "      <th>Economie</th>\n",
       "      <th>Littérature</th>\n",
       "      <th>Medecine</th>\n",
       "      <th>Paix</th>\n",
       "      <th>Physique</th>\n",
       "      <th>Marge Colonne</th>\n",
       "    </tr>\n",
       "  </thead>\n",
       "  <tbody>\n",
       "    <tr>\n",
       "      <th>count</th>\n",
       "      <td>9.000000</td>\n",
       "      <td>9.000000</td>\n",
       "      <td>9.000000</td>\n",
       "      <td>9.000000</td>\n",
       "      <td>9.000000</td>\n",
       "      <td>9.000000</td>\n",
       "    </tr>\n",
       "    <tr>\n",
       "      <th>mean</th>\n",
       "      <td>13.333333</td>\n",
       "      <td>10.888889</td>\n",
       "      <td>31.111111</td>\n",
       "      <td>11.333333</td>\n",
       "      <td>33.111111</td>\n",
       "      <td>99.777778</td>\n",
       "    </tr>\n",
       "    <tr>\n",
       "      <th>std</th>\n",
       "      <td>22.118996</td>\n",
       "      <td>14.581190</td>\n",
       "      <td>46.079943</td>\n",
       "      <td>16.062378</td>\n",
       "      <td>47.445876</td>\n",
       "      <td>143.977236</td>\n",
       "    </tr>\n",
       "    <tr>\n",
       "      <th>min</th>\n",
       "      <td>0.000000</td>\n",
       "      <td>2.000000</td>\n",
       "      <td>2.000000</td>\n",
       "      <td>1.000000</td>\n",
       "      <td>4.000000</td>\n",
       "      <td>14.000000</td>\n",
       "    </tr>\n",
       "    <tr>\n",
       "      <th>25%</th>\n",
       "      <td>1.000000</td>\n",
       "      <td>5.000000</td>\n",
       "      <td>4.000000</td>\n",
       "      <td>1.000000</td>\n",
       "      <td>9.000000</td>\n",
       "      <td>18.000000</td>\n",
       "    </tr>\n",
       "    <tr>\n",
       "      <th>50%</th>\n",
       "      <td>3.000000</td>\n",
       "      <td>7.000000</td>\n",
       "      <td>12.000000</td>\n",
       "      <td>5.000000</td>\n",
       "      <td>11.000000</td>\n",
       "      <td>45.000000</td>\n",
       "    </tr>\n",
       "    <tr>\n",
       "      <th>75%</th>\n",
       "      <td>6.000000</td>\n",
       "      <td>8.000000</td>\n",
       "      <td>26.000000</td>\n",
       "      <td>11.000000</td>\n",
       "      <td>24.000000</td>\n",
       "      <td>70.000000</td>\n",
       "    </tr>\n",
       "    <tr>\n",
       "      <th>max</th>\n",
       "      <td>60.000000</td>\n",
       "      <td>49.000000</td>\n",
       "      <td>140.000000</td>\n",
       "      <td>51.000000</td>\n",
       "      <td>149.000000</td>\n",
       "      <td>449.000000</td>\n",
       "    </tr>\n",
       "  </tbody>\n",
       "</table>\n",
       "</div>"
      ],
      "text/plain": [
       "        Economie  Littérature    Medecine       Paix    Physique  \\\n",
       "count   9.000000     9.000000    9.000000   9.000000    9.000000   \n",
       "mean   13.333333    10.888889   31.111111  11.333333   33.111111   \n",
       "std    22.118996    14.581190   46.079943  16.062378   47.445876   \n",
       "min     0.000000     2.000000    2.000000   1.000000    4.000000   \n",
       "25%     1.000000     5.000000    4.000000   1.000000    9.000000   \n",
       "50%     3.000000     7.000000   12.000000   5.000000   11.000000   \n",
       "75%     6.000000     8.000000   26.000000  11.000000   24.000000   \n",
       "max    60.000000    49.000000  140.000000  51.000000  149.000000   \n",
       "\n",
       "       Marge Colonne  \n",
       "count       9.000000  \n",
       "mean       99.777778  \n",
       "std       143.977236  \n",
       "min        14.000000  \n",
       "25%        18.000000  \n",
       "50%        45.000000  \n",
       "75%        70.000000  \n",
       "max       449.000000  "
      ]
     },
     "execution_count": 8,
     "metadata": {},
     "output_type": "execute_result"
    }
   ],
   "source": [
    "data_afc.describe()"
   ]
  },
  {
   "cell_type": "code",
   "execution_count": 9,
   "metadata": {},
   "outputs": [
    {
     "name": "stdout",
     "output_type": "stream",
     "text": [
      "<class 'pandas.core.frame.DataFrame'>\n",
      "RangeIndex: 9 entries, 0 to 8\n",
      "Data columns (total 7 columns):\n",
      " #   Column         Non-Null Count  Dtype \n",
      "---  ------         --------------  ----- \n",
      " 0   Pays           9 non-null      object\n",
      " 1   Economie       9 non-null      int64 \n",
      " 2   Littérature    9 non-null      int64 \n",
      " 3   Medecine       9 non-null      int64 \n",
      " 4   Paix           9 non-null      int64 \n",
      " 5   Physique       9 non-null      int64 \n",
      " 6   Marge Colonne  9 non-null      int64 \n",
      "dtypes: int64(6), object(1)\n",
      "memory usage: 632.0+ bytes\n"
     ]
    }
   ],
   "source": [
    "data_afc.info()"
   ]
  },
  {
   "cell_type": "markdown",
   "metadata": {},
   "source": [
    "## Centrage et Réduction"
   ]
  },
  {
   "cell_type": "code",
   "execution_count": 10,
   "metadata": {},
   "outputs": [],
   "source": [
    "std_scale = preprocessing.StandardScaler().fit(X)\n",
    "X_scaled = std_scale.transform(X)"
   ]
  },
  {
   "cell_type": "code",
   "execution_count": 11,
   "metadata": {},
   "outputs": [
    {
     "data": {
      "text/plain": [
       "array([[-0.48049383,  0.64850655,  0.02341465, -0.22686441,  0.28231492],\n",
       "       [-0.33264957, -1.42671441, -0.63219542, -0.8868336 , -0.76815919],\n",
       "       [-0.33264957,  1.68611703, -0.2575611 ,  0.59809708, -0.50554066],\n",
       "       [-0.11088319,  0.30263639,  0.39804897,  0.76308938,  0.07222009],\n",
       "       [-0.48049383, -0.04323377, -0.58536613, -0.8868336 , -0.71563548],\n",
       "       [-0.55441595, -1.42671441, -0.67902471, -0.8868336 , -0.40049325],\n",
       "       [-0.33264957, -0.38910393, -0.725854  , -0.55684901, -0.45301696],\n",
       "       [ 2.62423551,  0.64850655,  2.45853776,  2.08302777,  2.48831053]])"
      ]
     },
     "execution_count": 11,
     "metadata": {},
     "output_type": "execute_result"
    }
   ],
   "source": [
    "X_scaled"
   ]
  },
  {
   "cell_type": "markdown",
   "metadata": {},
   "source": [
    "## Test d'adéquation\n",
    "\n",
    "Avant d'effectuer une analyse factorielle, nous devons évaluer la **«factorabilité»** de notre ensemble de données. La **factorabilité** signifie «pouvons-nous trouver les facteurs dans l'ensemble de données?». Il existe deux méthodes pour vérifier la factorabilité ou l'adéquation de l'échantillonnage:\n",
    "* Test de Bartlett \n",
    "* Test de Kaiser-Meyer-Olkin\n",
    "### Test de Bartlett \n",
    "Le test de sphéricité de Bartlett vérifie si les variables observées sont intercorrélées ou non en utilisant la matrice de corrélation observée avec la matrice d'identité. Si le test est statistiquement insignifiant, nous ne devons pas procéder à une analyse factorielle."
   ]
  },
  {
   "cell_type": "code",
   "execution_count": 12,
   "metadata": {},
   "outputs": [
    {
     "data": {
      "text/plain": [
       "(38.842458091821385, 1.0897653546919014e-05)"
      ]
     },
     "execution_count": 12,
     "metadata": {},
     "output_type": "execute_result"
    }
   ],
   "source": [
    "from factor_analyzer.factor_analyzer import calculate_bartlett_sphericity\n",
    "chi_square_value, p_value=calculate_bartlett_sphericity(X_scaled)\n",
    "chi_square_value, p_value"
   ]
  },
  {
   "cell_type": "markdown",
   "metadata": {},
   "source": [
    "Dans ce test de Bartlett, la valeur p est sensiblement égale à 0.  Alors le test est **statistiquement significatif**, indiquant que la matrice de corrélation observée n’est pas une matrice d’identité on peut le vérifier maintenant."
   ]
  },
  {
   "cell_type": "markdown",
   "metadata": {},
   "source": [
    "## Matrice de correlation¶"
   ]
  },
  {
   "cell_type": "code",
   "execution_count": 13,
   "metadata": {},
   "outputs": [
    {
     "data": {
      "text/html": [
       "<div>\n",
       "<style scoped>\n",
       "    .dataframe tbody tr th:only-of-type {\n",
       "        vertical-align: middle;\n",
       "    }\n",
       "\n",
       "    .dataframe tbody tr th {\n",
       "        vertical-align: top;\n",
       "    }\n",
       "\n",
       "    .dataframe thead th {\n",
       "        text-align: right;\n",
       "    }\n",
       "</style>\n",
       "<table border=\"1\" class=\"dataframe\">\n",
       "  <thead>\n",
       "    <tr style=\"text-align: right;\">\n",
       "      <th></th>\n",
       "      <th>Economie</th>\n",
       "      <th>Littérature</th>\n",
       "      <th>Medecine</th>\n",
       "      <th>Paix</th>\n",
       "      <th>Physique</th>\n",
       "    </tr>\n",
       "  </thead>\n",
       "  <tbody>\n",
       "    <tr>\n",
       "      <th>Economie</th>\n",
       "      <td>1.000000</td>\n",
       "      <td>0.276448</td>\n",
       "      <td>0.948944</td>\n",
       "      <td>0.836228</td>\n",
       "      <td>0.940818</td>\n",
       "    </tr>\n",
       "    <tr>\n",
       "      <th>Littérature</th>\n",
       "      <td>0.276448</td>\n",
       "      <td>1.000000</td>\n",
       "      <td>0.434278</td>\n",
       "      <td>0.653583</td>\n",
       "      <td>0.355096</td>\n",
       "    </tr>\n",
       "    <tr>\n",
       "      <th>Medecine</th>\n",
       "      <td>0.948944</td>\n",
       "      <td>0.434278</td>\n",
       "      <td>1.000000</td>\n",
       "      <td>0.918967</td>\n",
       "      <td>0.973559</td>\n",
       "    </tr>\n",
       "    <tr>\n",
       "      <th>Paix</th>\n",
       "      <td>0.836228</td>\n",
       "      <td>0.653583</td>\n",
       "      <td>0.918967</td>\n",
       "      <td>1.000000</td>\n",
       "      <td>0.849404</td>\n",
       "    </tr>\n",
       "    <tr>\n",
       "      <th>Physique</th>\n",
       "      <td>0.940818</td>\n",
       "      <td>0.355096</td>\n",
       "      <td>0.973559</td>\n",
       "      <td>0.849404</td>\n",
       "      <td>1.000000</td>\n",
       "    </tr>\n",
       "  </tbody>\n",
       "</table>\n",
       "</div>"
      ],
      "text/plain": [
       "             Economie  Littérature  Medecine      Paix  Physique\n",
       "Economie     1.000000     0.276448  0.948944  0.836228  0.940818\n",
       "Littérature  0.276448     1.000000  0.434278  0.653583  0.355096\n",
       "Medecine     0.948944     0.434278  1.000000  0.918967  0.973559\n",
       "Paix         0.836228     0.653583  0.918967  1.000000  0.849404\n",
       "Physique     0.940818     0.355096  0.973559  0.849404  1.000000"
      ]
     },
     "execution_count": 13,
     "metadata": {},
     "output_type": "execute_result"
    }
   ],
   "source": [
    "X.corr()"
   ]
  },
  {
   "cell_type": "markdown",
   "metadata": {},
   "source": [
    "## Test de Kaiser-Meyer-Olkin (KMO)"
   ]
  },
  {
   "cell_type": "markdown",
   "metadata": {},
   "source": [
    "Pour mesurer la pertinence des données pour l'analyse factorielle. Il détermine l'adéquation pour chaque variable observée et pour le modèle complet. **KMO** estime la proportion de variance parmi toutes les variables observées. Une proportion plus faible est plus adaptée à l'analyse factorielle Les valeurs de **KMO** sont comprises entre 0 et 1. Une valeur de **KMO** inférieure à 0,6 est considérée comme inadéquate."
   ]
  },
  {
   "cell_type": "code",
   "execution_count": 14,
   "metadata": {},
   "outputs": [
    {
     "data": {
      "text/plain": [
       "array([0.85687911, 0.49572496, 0.65626291, 0.66466027, 0.71193718])"
      ]
     },
     "execution_count": 14,
     "metadata": {},
     "output_type": "execute_result"
    }
   ],
   "source": [
    "from factor_analyzer.factor_analyzer import calculate_kmo\n",
    "kmo_all,kmo_model=calculate_kmo(X)\n",
    "kmo_all"
   ]
  },
  {
   "cell_type": "code",
   "execution_count": 15,
   "metadata": {},
   "outputs": [
    {
     "data": {
      "text/plain": [
       "0.6905912689232802"
      ]
     },
     "execution_count": 15,
     "metadata": {},
     "output_type": "execute_result"
    }
   ],
   "source": [
    "kmo_model"
   ]
  },
  {
   "cell_type": "markdown",
   "metadata": {},
   "source": [
    "#### Le KMO global pour nos données est de **0.69**, ce qui n'est mal ici. Cette valeur indique que nous pouvons poursuivre votre analyse factorielle planifiée."
   ]
  },
  {
   "cell_type": "markdown",
   "metadata": {},
   "source": [
    "## Choix du nombre de facteurs¶"
   ]
  },
  {
   "cell_type": "markdown",
   "metadata": {},
   "source": [
    "Pour choisir le nombre de facteurs, nous pouvons utiliser le Kaiser criterion et scree plot. Les deux sont basés sur des valeurs propres"
   ]
  },
  {
   "cell_type": "code",
   "execution_count": 16,
   "metadata": {},
   "outputs": [
    {
     "data": {
      "text/plain": [
       "array([5.76165197e+00, 2.05669339e-01, 1.82729245e-02, 1.19748478e-02,\n",
       "       2.43091817e-03, 7.75720840e-17])"
      ]
     },
     "execution_count": 16,
     "metadata": {},
     "output_type": "execute_result"
    }
   ],
   "source": [
    "# Créer un objet d'analyse factorielle et effectuer une analyse factorielle\n",
    "fa = FactorAnalyzer()\n",
    "fa = FactorAnalyzer()\n",
    "fa.fit(np.array(data_afc.iloc[:, 1:]))\n",
    "# Vérifier les valeurs propres\n",
    "eigen_values, vectors = fa.get_eigenvalues()\n",
    "eigen_values"
   ]
  },
  {
   "cell_type": "code",
   "execution_count": 17,
   "metadata": {},
   "outputs": [
    {
     "data": {
      "text/html": [
       "<div>\n",
       "<style scoped>\n",
       "    .dataframe tbody tr th:only-of-type {\n",
       "        vertical-align: middle;\n",
       "    }\n",
       "\n",
       "    .dataframe tbody tr th {\n",
       "        vertical-align: top;\n",
       "    }\n",
       "\n",
       "    .dataframe thead th {\n",
       "        text-align: right;\n",
       "    }\n",
       "</style>\n",
       "<table border=\"1\" class=\"dataframe\">\n",
       "  <thead>\n",
       "    <tr style=\"text-align: right;\">\n",
       "      <th></th>\n",
       "      <th>Valeurs propres</th>\n",
       "    </tr>\n",
       "  </thead>\n",
       "  <tbody>\n",
       "    <tr>\n",
       "      <th>0</th>\n",
       "      <td>5.761652e+00</td>\n",
       "    </tr>\n",
       "    <tr>\n",
       "      <th>1</th>\n",
       "      <td>2.056693e-01</td>\n",
       "    </tr>\n",
       "    <tr>\n",
       "      <th>2</th>\n",
       "      <td>1.827292e-02</td>\n",
       "    </tr>\n",
       "    <tr>\n",
       "      <th>3</th>\n",
       "      <td>1.197485e-02</td>\n",
       "    </tr>\n",
       "    <tr>\n",
       "      <th>4</th>\n",
       "      <td>2.430918e-03</td>\n",
       "    </tr>\n",
       "    <tr>\n",
       "      <th>5</th>\n",
       "      <td>7.757208e-17</td>\n",
       "    </tr>\n",
       "  </tbody>\n",
       "</table>\n",
       "</div>"
      ],
      "text/plain": [
       "   Valeurs propres\n",
       "0     5.761652e+00\n",
       "1     2.056693e-01\n",
       "2     1.827292e-02\n",
       "3     1.197485e-02\n",
       "4     2.430918e-03\n",
       "5     7.757208e-17"
      ]
     },
     "execution_count": 17,
     "metadata": {},
     "output_type": "execute_result"
    }
   ],
   "source": [
    "## Améliorons l'affichage\n",
    "valeur_propre = pd.DataFrame({\n",
    "    'Valeurs propres':eigen_values\n",
    "})\n",
    "valeur_propre"
   ]
  },
  {
   "cell_type": "markdown",
   "metadata": {},
   "source": [
    "#### Ici, nous pouvons voir que pour 1 facteur, la valeur propre est supérieure à un. Cela signifie que nous devons choisir seulement 1 facteur (ou des variables non observées)."
   ]
  },
  {
   "cell_type": "markdown",
   "metadata": {},
   "source": [
    "## Construction du model"
   ]
  },
  {
   "cell_type": "markdown",
   "metadata": {},
   "source": [
    "L'exécution de la méthode  CA( row_labels=df.index.values, col_labels=df.columns.values) provoque a minima le calcul des attributs :\n",
    " * afc.eig\\_ : valeurs propres\n",
    " * afc.row\\_coord\\_ : coordonnées des points lignes\n",
    " * afc.col\\_coord\\_ : coordonnées des points colonnes"
   ]
  },
  {
   "cell_type": "code",
   "execution_count": 18,
   "metadata": {},
   "outputs": [],
   "source": [
    "afc = CA(n_components=4, row_labels=df.index.values, col_labels=df.columns.values)"
   ]
  },
  {
   "cell_type": "code",
   "execution_count": 19,
   "metadata": {},
   "outputs": [
    {
     "data": {
      "text/plain": [
       "CA(col_labels=array(['Pays', 'Economie', 'Littérature', 'Medecine', 'Paix', 'Physique',\n",
       "       'Marge Colonne'], dtype=object),\n",
       "   n_components=4, row_labels=array([0, 1, 2, 3, 4, 5, 6, 7, 8], dtype=int64))"
      ]
     },
     "execution_count": 19,
     "metadata": {},
     "output_type": "execute_result"
    }
   ],
   "source": [
    "afc.fit(np.array(df.iloc[:-1, 1:-1]))"
   ]
  },
  {
   "cell_type": "code",
   "execution_count": 20,
   "metadata": {},
   "outputs": [
    {
     "data": {
      "text/plain": [
       "array([[9.95847354e-02, 3.78082667e-02, 1.94688292e-02, 8.94717211e-03],\n",
       "       [6.00599083e+01, 2.28023002e+01, 1.17417202e+01, 5.39607134e+00],\n",
       "       [6.00599083e+01, 8.28622085e+01, 9.46039287e+01, 1.00000000e+02]])"
      ]
     },
     "execution_count": 20,
     "metadata": {},
     "output_type": "execute_result"
    }
   ],
   "source": [
    "afc.eig_"
   ]
  },
  {
   "cell_type": "code",
   "execution_count": 21,
   "metadata": {},
   "outputs": [
    {
     "data": {
      "text/plain": [
       "array([[-0.25072608, -0.24093709,  0.13853351, -0.06562215],\n",
       "       [ 0.06808081,  0.08805024, -0.24265363, -0.10990216],\n",
       "       [-0.48981905,  0.34006561,  0.01375679,  0.0916408 ],\n",
       "       [-0.05600309,  0.09379482,  0.20017491,  0.02144546],\n",
       "       [-0.61808927,  0.05643006, -0.22328308, -0.33662708],\n",
       "       [-0.26858138, -0.65688755,  0.00215123,  0.12329025],\n",
       "       [-0.35173633, -0.12311158, -0.35537597,  0.19716538],\n",
       "       [ 0.30500499,  0.01637911, -0.03318375, -0.00477184]])"
      ]
     },
     "execution_count": 21,
     "metadata": {},
     "output_type": "execute_result"
    }
   ],
   "source": [
    "afc.row_coord_"
   ]
  },
  {
   "cell_type": "code",
   "execution_count": 22,
   "metadata": {},
   "outputs": [
    {
     "data": {
      "text/plain": [
       "array([[ 0.50648784,  0.17122169, -0.24647135,  0.0102102 ],\n",
       "       [-0.72521836,  0.12449655, -0.17584245, -0.08892222],\n",
       "       [ 0.11715814,  0.06416071,  0.14072891, -0.09186297],\n",
       "       [-0.17686977,  0.26795174,  0.12250512,  0.20766506],\n",
       "       [-0.01500236, -0.26189041, -0.0170822 ,  0.0403656 ]])"
      ]
     },
     "execution_count": 22,
     "metadata": {},
     "output_type": "execute_result"
    }
   ],
   "source": [
    "afc.col_coord_"
   ]
  },
  {
   "cell_type": "markdown",
   "metadata": {},
   "source": [
    "L'attribut afc.eig\\_ contient :\n",
    " * en 1ère ligne : les valeurs propres en valeur absolue\n",
    " * en 2ème ligne : les valeurs propres en pourcentage de la variance totale\n",
    " * en 3ème ligne : les valeurs propres en pourcentage cumulé de la variance totale"
   ]
  },
  {
   "cell_type": "code",
   "execution_count": 23,
   "metadata": {},
   "outputs": [
    {
     "data": {
      "text/plain": [
       "array([[9.95847354e-02, 3.78082667e-02, 1.94688292e-02, 8.94717211e-03],\n",
       "       [6.00599083e+01, 2.28023002e+01, 1.17417202e+01, 5.39607134e+00],\n",
       "       [6.00599083e+01, 8.28622085e+01, 9.46039287e+01, 1.00000000e+02]])"
      ]
     },
     "execution_count": 23,
     "metadata": {},
     "output_type": "execute_result"
    }
   ],
   "source": [
    "afc.eig_"
   ]
  },
  {
   "cell_type": "code",
   "execution_count": 24,
   "metadata": {},
   "outputs": [
    {
     "data": {
      "image/png": "[encoded data removed]",
      "text/plain": [
       "<Figure size 432x288 with 1 Axes>"
      ]
     },
     "metadata": {
      "needs_background": "light"
     },
     "output_type": "display_data"
    }
   ],
   "source": [
    "afc.plot_eigenvalues()"
   ]
  },
  {
   "cell_type": "code",
   "execution_count": 25,
   "metadata": {},
   "outputs": [
    {
     "data": {
      "image/png": "[encoded data removed]",
      "text/plain": [
       "<Figure size 432x288 with 1 Axes>"
      ]
     },
     "metadata": {
      "needs_background": "light"
     },
     "output_type": "display_data"
    }
   ],
   "source": [
    "afc.plot_eigenvalues(type=\"percentage\")"
   ]
  },
  {
   "cell_type": "code",
   "execution_count": 26,
   "metadata": {},
   "outputs": [
    {
     "data": {
      "image/png": "[encoded data removed]",
      "text/plain": [
       "<Figure size 432x288 with 1 Axes>"
      ]
     },
     "metadata": {
      "needs_background": "light"
     },
     "output_type": "display_data"
    }
   ],
   "source": [
    "afc.plot_eigenvalues(type=\"cumulative\")"
   ]
  },
  {
   "cell_type": "markdown",
   "metadata": {},
   "source": [
    "Nous voyons que l'axe 1 fournit 60% de l'informatique, alors que l'axe 2 fournit à peu près 22%, l'axe 3 12% et l'axe 6%"
   ]
  },
  {
   "cell_type": "markdown",
   "metadata": {},
   "source": [
    "Quand l'objet **afc** a été instancié, son paramètre stats a reçu la valeur True par défaut.\n",
    "En conséquence, lors de l'exécution de la méthode afc.fit(df.iloc[:-1, 1:-1]), les statistiques suivantes ont été calculées :\n",
    "\n",
    " * afc.row\\_contrib\\_ : contributions des points lignes à la variance de l'axe\n",
    " * afc.col\\_contrib\\_ : contributions des points colonnes à la variance de l'axe\n",
    " * afc.row\\_cos2\\_ : cosinus carrés des points lignes\n",
    " * afc.col\\_cos2\\_ : cosinus carrés des points colonnes\n",
    " \n",
    "Si l'on avait souhaité éviter le calcul de ces statistiques pour gagner du temps et économiser des ressources mémoire, il aurait fallu instancier :\n",
    "afc = CA(stats=False)\n",
    "\n",
    "Par défaut, les coordonnées des points lignes et colonnes, leurs contributions et cosinus carrés sont calculés sur l'ensemble des axes extraits de l'analyse.\n",
    "On aurait toutefois pu spécifier le nombre d'axes à retenir via le paramètre n_components avec par exemple :\n",
    "afc = CA(n_components=3)"
   ]
  },
  {
   "cell_type": "markdown",
   "metadata": {},
   "source": [
    "## Extraction des statistiques sur les points lignes"
   ]
  },
  {
   "cell_type": "markdown",
   "metadata": {},
   "source": [
    "### Export de la totalité des données lignes vers une DataFrame pandas"
   ]
  },
  {
   "cell_type": "markdown",
   "metadata": {},
   "source": [
    "On peut simplement envoyer vers une Dataframe : les coordonnées, les contributions et les cos2 de chacun des points lignes, pour tous les axes factoriels (identifiés par les suffixes dim1, dim2, etc.)."
   ]
  },
  {
   "cell_type": "code",
   "execution_count": 27,
   "metadata": {},
   "outputs": [],
   "source": [
    "df_rows = afc.row_topandas()"
   ]
  },
  {
   "cell_type": "code",
   "execution_count": 28,
   "metadata": {},
   "outputs": [
    {
     "name": "stdout",
     "output_type": "stream",
     "text": [
      "      row_coord_dim1  row_coord_dim2  row_coord_dim3  row_coord_dim4  \\\n",
      "row0       -0.250726       -0.240937        0.138534       -0.065622   \n",
      "row1        0.068081        0.088050       -0.242654       -0.109902   \n",
      "row2       -0.489819        0.340066        0.013757        0.091641   \n",
      "row3       -0.056003        0.093795        0.200175        0.021445   \n",
      "row4       -0.618089        0.056430       -0.223283       -0.336627   \n",
      "row5       -0.268581       -0.656888        0.002151        0.123290   \n",
      "row6       -0.351736       -0.123112       -0.355376        0.197165   \n",
      "row7        0.305005        0.016379       -0.033184       -0.004772   \n",
      "\n",
      "      row_contrib_dim1  row_contrib_dim2  row_contrib_dim3  row_contrib_dim4  \\\n",
      "row0          7.873139         19.149712         12.294518          6.002840   \n",
      "row1          0.145124          0.639376          9.430081          4.209286   \n",
      "row2         24.145975         30.655249          0.097423          9.407150   \n",
      "row3          0.491002          3.627628         32.087149          0.801377   \n",
      "row4         15.379273          0.337645         10.265922         50.773659   \n",
      "row5          2.742594         43.211353          0.000900          6.432417   \n",
      "row6          6.363897          2.053490         33.229039         22.256507   \n",
      "row7         42.858996          0.325548          2.594968          0.116763   \n",
      "\n",
      "      row_cos2_dim1  row_cos2_dim2  row_cos2_dim3  row_cos2_dim4  \n",
      "row0       0.435307       0.401979       0.132894       0.029819  \n",
      "row1       0.055611       0.093019       0.706453       0.144918  \n",
      "row2       0.658848       0.317570       0.000520       0.023062  \n",
      "row3       0.059781       0.167687       0.763766       0.008766  \n",
      "row4       0.696645       0.005807       0.090912       0.206637  \n",
      "row5       0.139033       0.831662       0.000009       0.029297  \n",
      "row6       0.406913       0.049850       0.415378       0.127858  \n",
      "row7       0.985255       0.002841       0.011662       0.000241  \n"
     ]
    }
   ],
   "source": [
    "print(df_rows)"
   ]
  },
  {
   "cell_type": "code",
   "execution_count": 29,
   "metadata": {},
   "outputs": [
    {
     "name": "stdout",
     "output_type": "stream",
     "text": [
      "row0     7.873139\n",
      "row1     0.145124\n",
      "row2    24.145975\n",
      "row3     0.491002\n",
      "row4    15.379273\n",
      "row5     2.742594\n",
      "row6     6.363897\n",
      "row7    42.858996\n",
      "Name: row_contrib_dim1, dtype: float64\n"
     ]
    }
   ],
   "source": [
    "print(df_rows.row_contrib_dim1)"
   ]
  },
  {
   "cell_type": "code",
   "execution_count": 40,
   "metadata": {},
   "outputs": [
    {
     "name": "stdout",
     "output_type": "stream",
     "text": [
      "row0    0.435307\n",
      "row1    0.055611\n",
      "row2    0.658848\n",
      "row3    0.059781\n",
      "row4    0.696645\n",
      "row5    0.139033\n",
      "row6    0.406913\n",
      "row7    0.985255\n",
      "Name: row_cos2_dim1, dtype: float64\n"
     ]
    }
   ],
   "source": [
    "print(df_rows.row_cos2_dim1)"
   ]
  },
  {
   "cell_type": "markdown",
   "metadata": {},
   "source": [
    "Puis que l'axe 1 répresente 60% de l'information, on va se contenter d'interpreter<br> les résultats sur l'axe 1<br/>\n",
    "les lignes qui ont le plus contribuer à sa construction sont :\n",
    "  * row7 ( les USA ) avec  0.98\n",
    "  * row4 ( l'Italie ) avec  0.70\n",
    "  * row2 ( la France ) avec 0.66\n",
    "  * row0 ( l'Allemagne ) avec  0.44\n",
    "  * row6 ( la Russie ) avec  0.41<br>\n",
    "Nous pouvons dire que pays qui ont réçu plus de prix noble dans plusieurs matières à la fois dans la base donnée qui a constitué l'objet de notre études sont les Etat-unis, la France, l'Italie, l'Allemagne et la Russie"
   ]
  },
  {
   "cell_type": "markdown",
   "metadata": {},
   "source": [
    "## Extraction des statistiques sur les points colonnes"
   ]
  },
  {
   "cell_type": "markdown",
   "metadata": {},
   "source": [
    "### Export de la totalité des données colonnes vers une DataFrame pandas"
   ]
  },
  {
   "cell_type": "markdown",
   "metadata": {},
   "source": [
    "On peut envoyer vers une Dataframe : les coordonnées, les contributions et les cos2 de chacun des points colonnes, pour tous les axes factoriels (identifiés par les suffixes dim1, dim2, etc.)."
   ]
  },
  {
   "cell_type": "code",
   "execution_count": 30,
   "metadata": {},
   "outputs": [],
   "source": [
    "df_cols = afc.col_topandas()"
   ]
  },
  {
   "cell_type": "code",
   "execution_count": 31,
   "metadata": {},
   "outputs": [
    {
     "name": "stdout",
     "output_type": "stream",
     "text": [
      "      col_coord_dim1  col_coord_dim2  col_coord_dim3  col_coord_dim4  \\\n",
      "col0        0.506488        0.171222       -0.246471        0.010210   \n",
      "col1       -0.725218        0.124497       -0.175842       -0.088922   \n",
      "col2        0.117158        0.064161        0.140729       -0.091863   \n",
      "col3       -0.176870        0.267952        0.122505        0.207665   \n",
      "col4       -0.015002       -0.261890       -0.017082        0.040366   \n",
      "\n",
      "      col_contrib_dim1  col_contrib_dim2  col_contrib_dim3  col_contrib_dim4  \\\n",
      "col0         34.423116         10.361812         41.696343          0.155700   \n",
      "col1         57.636095          4.473811         17.332347          9.644607   \n",
      "col2          4.297678          3.394949         31.718199         29.408773   \n",
      "col3          3.568110         21.570004          8.755732         54.747579   \n",
      "col4          0.075001         60.199424          0.497379          6.043341   \n",
      "\n",
      "      col_cos2_dim1  col_cos2_dim2  col_cos2_dim3  col_cos2_dim4  \n",
      "col0       0.739921       0.084560       0.175219       0.000301  \n",
      "col1       0.906376       0.026711       0.053287       0.013627  \n",
      "col2       0.297835       0.089324       0.429731       0.183110  \n",
      "col3       0.194047       0.445361       0.093091       0.267501  \n",
      "col4       0.003182       0.969657       0.004125       0.023036  \n"
     ]
    }
   ],
   "source": [
    "print(df_cols)"
   ]
  },
  {
   "cell_type": "code",
   "execution_count": 32,
   "metadata": {},
   "outputs": [
    {
     "name": "stdout",
     "output_type": "stream",
     "text": [
      "      col_coord_dim1  col_coord_dim2  col_coord_dim3  col_coord_dim4  \\\n",
      "col0        0.506488        0.171222       -0.246471        0.010210   \n",
      "col1       -0.725218        0.124497       -0.175842       -0.088922   \n",
      "col2        0.117158        0.064161        0.140729       -0.091863   \n",
      "col3       -0.176870        0.267952        0.122505        0.207665   \n",
      "col4       -0.015002       -0.261890       -0.017082        0.040366   \n",
      "\n",
      "      col_contrib_dim1  col_contrib_dim2  col_contrib_dim3  col_contrib_dim4  \\\n",
      "col0         34.423116         10.361812         41.696343          0.155700   \n",
      "col1         57.636095          4.473811         17.332347          9.644607   \n",
      "col2          4.297678          3.394949         31.718199         29.408773   \n",
      "col3          3.568110         21.570004          8.755732         54.747579   \n",
      "col4          0.075001         60.199424          0.497379          6.043341   \n",
      "\n",
      "      col_cos2_dim1  col_cos2_dim2  col_cos2_dim3  col_cos2_dim4  \n",
      "col0       0.739921       0.084560       0.175219       0.000301  \n",
      "col1       0.906376       0.026711       0.053287       0.013627  \n",
      "col2       0.297835       0.089324       0.429731       0.183110  \n",
      "col3       0.194047       0.445361       0.093091       0.267501  \n",
      "col4       0.003182       0.969657       0.004125       0.023036  \n"
     ]
    }
   ],
   "source": [
    "print(df_cols)"
   ]
  },
  {
   "cell_type": "code",
   "execution_count": 43,
   "metadata": {},
   "outputs": [
    {
     "data": {
      "text/plain": [
       "col0    0.739921\n",
       "col1    0.906376\n",
       "col2    0.297835\n",
       "col3    0.194047\n",
       "col4    0.003182\n",
       "Name: col_cos2_dim1, dtype: float64"
      ]
     },
     "execution_count": 43,
     "metadata": {},
     "output_type": "execute_result"
    }
   ],
   "source": [
    "df_cols.col_cos2_dim1"
   ]
  },
  {
   "cell_type": "markdown",
   "metadata": {},
   "source": [
    "Puis que l'axe 1 répresente 60% de l'information, on va se contenter d'interpreter\n",
    "les résultats sur l'axe 1\n",
    "les lignes qui ont le plus contribuer à sa construction sont :\n",
    "col1 ( Littérature ) avec 0.91\n",
    "col0 ( Economie ) avec 0.74\n",
    "col2 ( Economie ) avec 34.42\n",
    "Nous pouvons dire que les matières qui ont réçu plus de prix noble dans tous les pays sont la littérature et l'économie"
   ]
  },
  {
   "cell_type": "code",
   "execution_count": 53,
   "metadata": {},
   "outputs": [
    {
     "data": {
      "image/png": "[encoded data removed]",
      "text/plain": [
       "<Figure size 432x288 with 1 Axes>"
      ]
     },
     "metadata": {
      "needs_background": "light"
     },
     "output_type": "display_data"
    }
   ],
   "source": [
    "# Mapping simultané des points lignes et colonnes\n",
    "# Les paramètres de la méthode mapping indiquent que ce sont les axes 1 et 2 qui sont ici représentés\n",
    "afc.mapping(num_x_axis=1, num_y_axis=2)"
   ]
  },
  {
   "cell_type": "markdown",
   "metadata": {},
   "source": [
    "Les Etat-Unis et le Canada ont ont plus de plus nobles en Medecine et en Economie\n",
    "la Grande bretagne et la France ont plus de prix nobels en paix\n",
    "la France, l'Italie et la Grande bretagne ont plus de prix nobels ne littérature\n",
    "L'Allemagne, la Russie et le Japon ont plus de prix nobels en Physique"
   ]
  },
  {
   "cell_type": "code",
   "execution_count": 54,
   "metadata": {},
   "outputs": [
    {
     "data": {
      "image/png": "[encoded data removed]",
      "text/plain": [
       "<Figure size 432x288 with 1 Axes>"
      ]
     },
     "metadata": {
      "needs_background": "light"
     },
     "output_type": "display_data"
    }
   ],
   "source": [
    "# Mapping des points lignes\n",
    "afc.mapping_row(num_x_axis=1, num_y_axis=2)"
   ]
  },
  {
   "cell_type": "markdown",
   "metadata": {},
   "source": [
    "La France, la Grande Bretagne et l'Italie ont assez de ressemblances en prix Nobels dans l'ensemble des matières;\n",
    "Les Etat-Unis et le Canada ont assez de ressemblances en prix Nobels dans l'ensemble des matières;\n",
    "Nous La Russie, le Japon et l'Allemagne ont assez de ressemblances en prix Nobels dans l'ensemble des matières;"
   ]
  },
  {
   "cell_type": "code",
   "execution_count": 56,
   "metadata": {},
   "outputs": [
    {
     "data": {
      "image/png": "[encoded data removed]",
      "text/plain": [
       "<Figure size 432x288 with 1 Axes>"
      ]
     },
     "metadata": {
      "needs_background": "light"
     },
     "output_type": "display_data"
    }
   ],
   "source": [
    "# Mapping des points colonnes\n",
    "afc.mapping_col(num_x_axis=1, num_y_axis=2)"
   ]
  },
  {
   "cell_type": "markdown",
   "metadata": {},
   "source": [
    "Les pays qui ont plus de prix Nobels en Economie et ont également plus de prix Nobels en Médecine\n",
    "Les pays qui ont plus de prix Nobels en Littérature et ont également plus de prix Nobels en Paix"
   ]
  },
  {
   "cell_type": "markdown",
   "metadata": {},
   "source": [
    "# Analyse du 1er axe - Points lignes"
   ]
  },
  {
   "cell_type": "code",
   "execution_count": 57,
   "metadata": {},
   "outputs": [
    {
     "data": {
      "image/png": "[encoded data removed]",
      "text/plain": [
       "<Figure size 432x288 with 1 Axes>"
      ]
     },
     "metadata": {
      "needs_background": "light"
     },
     "output_type": "display_data"
    }
   ],
   "source": [
    "# Classement des points lignes en fonction de leur contribution au 1er axe\n",
    "# Le paramètre de la méthode plot_row_contrib indique que c'est pour l'axe numéro 1 que les contributions sont ici \n",
    "# représentées\n",
    "afc.plot_row_contrib(num_axis=1)"
   ]
  },
  {
   "cell_type": "code",
   "execution_count": 58,
   "metadata": {},
   "outputs": [
    {
     "data": {
      "image/png": "[encoded data removed]",
      "text/plain": [
       "<Figure size 432x288 with 1 Axes>"
      ]
     },
     "metadata": {
      "needs_background": "light"
     },
     "output_type": "display_data"
    }
   ],
   "source": [
    "# Classement des points lignes en fonction de leur cos2 sur le 1er axe\n",
    "afc.plot_row_cos2(num_axis=1)"
   ]
  },
  {
   "cell_type": "code",
   "execution_count": 59,
   "metadata": {},
   "outputs": [
    {
     "data": {
      "image/png": "[encoded data removed]",
      "text/plain": [
       "<Figure size 432x288 with 1 Axes>"
      ]
     },
     "metadata": {
      "needs_background": "light"
     },
     "output_type": "display_data"
    }
   ],
   "source": [
    "# Classement des points colonnes en fonction de leur contribution au 1er axe\n",
    "afc.plot_col_contrib(num_axis=1)"
   ]
  },
  {
   "cell_type": "code",
   "execution_count": 71,
   "metadata": {},
   "outputs": [
    {
     "data": {
      "image/png": "[encoded data removed]",
      "text/plain": [
       "<Figure size 432x288 with 1 Axes>"
      ]
     },
     "metadata": {
      "needs_background": "light"
     },
     "output_type": "display_data"
    }
   ],
   "source": [
    "afc.plot_col_cos2(num_axis=1)"
   ]
  },
  {
   "cell_type": "code",
   "execution_count": 66,
   "metadata": {},
   "outputs": [
    {
     "data": {
      "text/html": [
       "<div>\n",
       "<style scoped>\n",
       "    .dataframe tbody tr th:only-of-type {\n",
       "        vertical-align: middle;\n",
       "    }\n",
       "\n",
       "    .dataframe tbody tr th {\n",
       "        vertical-align: top;\n",
       "    }\n",
       "\n",
       "    .dataframe thead th {\n",
       "        text-align: right;\n",
       "    }\n",
       "</style>\n",
       "<table border=\"1\" class=\"dataframe\">\n",
       "  <thead>\n",
       "    <tr style=\"text-align: right;\">\n",
       "      <th></th>\n",
       "      <th>Pays</th>\n",
       "      <th>Economie</th>\n",
       "      <th>Littérature</th>\n",
       "      <th>Medecine</th>\n",
       "      <th>Paix</th>\n",
       "      <th>Physique</th>\n",
       "      <th>Marge Colonne</th>\n",
       "    </tr>\n",
       "  </thead>\n",
       "  <tbody>\n",
       "    <tr>\n",
       "      <th>0</th>\n",
       "      <td>Allemagne</td>\n",
       "      <td>1</td>\n",
       "      <td>8</td>\n",
       "      <td>18</td>\n",
       "      <td>5</td>\n",
       "      <td>24</td>\n",
       "      <td>56</td>\n",
       "    </tr>\n",
       "    <tr>\n",
       "      <th>1</th>\n",
       "      <td>Canada</td>\n",
       "      <td>3</td>\n",
       "      <td>2</td>\n",
       "      <td>4</td>\n",
       "      <td>1</td>\n",
       "      <td>4</td>\n",
       "      <td>14</td>\n",
       "    </tr>\n",
       "    <tr>\n",
       "      <th>2</th>\n",
       "      <td>France</td>\n",
       "      <td>3</td>\n",
       "      <td>11</td>\n",
       "      <td>12</td>\n",
       "      <td>10</td>\n",
       "      <td>9</td>\n",
       "      <td>45</td>\n",
       "    </tr>\n",
       "    <tr>\n",
       "      <th>3</th>\n",
       "      <td>GB</td>\n",
       "      <td>6</td>\n",
       "      <td>7</td>\n",
       "      <td>26</td>\n",
       "      <td>11</td>\n",
       "      <td>20</td>\n",
       "      <td>70</td>\n",
       "    </tr>\n",
       "    <tr>\n",
       "      <th>4</th>\n",
       "      <td>Italie</td>\n",
       "      <td>1</td>\n",
       "      <td>6</td>\n",
       "      <td>5</td>\n",
       "      <td>1</td>\n",
       "      <td>5</td>\n",
       "      <td>18</td>\n",
       "    </tr>\n",
       "    <tr>\n",
       "      <th>5</th>\n",
       "      <td>Japon</td>\n",
       "      <td>0</td>\n",
       "      <td>2</td>\n",
       "      <td>3</td>\n",
       "      <td>1</td>\n",
       "      <td>11</td>\n",
       "      <td>17</td>\n",
       "    </tr>\n",
       "    <tr>\n",
       "      <th>6</th>\n",
       "      <td>Russie</td>\n",
       "      <td>3</td>\n",
       "      <td>5</td>\n",
       "      <td>2</td>\n",
       "      <td>3</td>\n",
       "      <td>10</td>\n",
       "      <td>23</td>\n",
       "    </tr>\n",
       "    <tr>\n",
       "      <th>7</th>\n",
       "      <td>USA</td>\n",
       "      <td>43</td>\n",
       "      <td>8</td>\n",
       "      <td>70</td>\n",
       "      <td>19</td>\n",
       "      <td>66</td>\n",
       "      <td>206</td>\n",
       "    </tr>\n",
       "    <tr>\n",
       "      <th>8</th>\n",
       "      <td>Marge Ligne</td>\n",
       "      <td>60</td>\n",
       "      <td>49</td>\n",
       "      <td>140</td>\n",
       "      <td>51</td>\n",
       "      <td>149</td>\n",
       "      <td>449</td>\n",
       "    </tr>\n",
       "  </tbody>\n",
       "</table>\n",
       "</div>"
      ],
      "text/plain": [
       "          Pays  Economie  Littérature  Medecine  Paix  Physique  Marge Colonne\n",
       "0    Allemagne         1            8        18     5        24             56\n",
       "1       Canada         3            2         4     1         4             14\n",
       "2       France         3           11        12    10         9             45\n",
       "3           GB         6            7        26    11        20             70\n",
       "4       Italie         1            6         5     1         5             18\n",
       "5        Japon         0            2         3     1        11             17\n",
       "6       Russie         3            5         2     3        10             23\n",
       "7          USA        43            8        70    19        66            206\n",
       "8  Marge Ligne        60           49       140    51       149            449"
      ]
     },
     "execution_count": 66,
     "metadata": {},
     "output_type": "execute_result"
    }
   ],
   "source": []
  },
  {
   "cell_type": "code",
   "execution_count": null,
   "metadata": {},
   "outputs": [],
   "source": []
  }
 ],
 "metadata": {
  "kernelspec": {
   "display_name": "Python 3",
   "language": "python",
   "name": "python3"
  },
  "language_info": {
   "codemirror_mode": {
    "name": "ipython",
    "version": 3
   },
   "file_extension": ".py",
   "mimetype": "text/x-python",
   "name": "python",
   "nbconvert_exporter": "python",
   "pygments_lexer": "ipython3",
   "version": "3.8.5"
  }
 },
 "nbformat": 4,
 "nbformat_minor": 4
}
